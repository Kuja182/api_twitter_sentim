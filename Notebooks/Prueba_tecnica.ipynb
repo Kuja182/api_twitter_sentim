{
 "cells": [
  {
   "cell_type": "markdown",
   "metadata": {},
   "source": [
    "## Prueba Técnica"
   ]
  },
  {
   "cell_type": "markdown",
   "metadata": {},
   "source": [
    "<a id=\"0\"></a>  \n",
    " \n",
    "### Índice:\n",
    "#### 1. [Recopilación de tweets](#1)  \n",
    "#### 2. [AWS Conexión con DB](#2)  \n",
    "#### 3. [Análisis de datos](#3)  \n",
    "#### 4. [Machine Learning](#4)  \n",
    "#### 5. [Conclusiones finales](#5)  "
   ]
  },
  {
   "cell_type": "markdown",
   "metadata": {},
   "source": [
    "<a id=\"1\"></a> <br>\n",
    "### 1. - Recopilación de tweets."
   ]
  },
  {
   "cell_type": "markdown",
   "metadata": {},
   "source": [
    "Debido a que tuve muchos problemas ya que no terminaba de hacer funcionar la API y hacer scrapping es ahora gracias al bueno de Elon bastante complicado. Me fije en el Endpoint subido por el propio Elon..."
   ]
  },
  {
   "cell_type": "markdown",
   "metadata": {},
   "source": [
    "Primero importamos todas las librerias necesarias en nuestro problema."
   ]
  },
  {
   "cell_type": "code",
   "execution_count": 34,
   "metadata": {},
   "outputs": [],
   "source": [
    "import requests\n",
    "import datetime\n",
    "import pandas as pd\n",
    "import seaborn as sns\n",
    "import matplotlib.pyplot as plt\n",
    "from wordcloud import WordCloud\n",
    "import re\n",
    "from spacy.lang.es.stop_words import STOP_WORDS\n",
    "import pymysql\n",
    "import pickle\n",
    "from sklearn.feature_extraction.text import TfidfVectorizer\n",
    "from sklearn.linear_model import LogisticRegression\n",
    "from sklearn.metrics import accuracy_score\n",
    "from sklearn.model_selection import train_test_split\n",
    "from sklearn.ensemble import RandomForestClassifier\n",
    "from sklearn.pipeline import Pipeline"
   ]
  },
  {
   "cell_type": "code",
   "execution_count": 36,
   "metadata": {},
   "outputs": [
    {
     "data": {
      "text/plain": [
       "<Response [200]>"
      ]
     },
     "execution_count": 36,
     "metadata": {},
     "output_type": "execute_result"
    }
   ],
   "source": [
    "timestamp = datetime.datetime.now().strftime('%Y-%m-%d%H:%M:%S')\n",
    "params = {'ts': timestamp};\n",
    "url = \"http://twitterdata-env-1.eba-znn3kr4u.us-east-2.elasticbeanstalk.com/get_data?year=2022\"\n",
    "res = requests.get(url,params=params)\n",
    "res"
   ]
  },
  {
   "cell_type": "code",
   "execution_count": 37,
   "metadata": {},
   "outputs": [],
   "source": [
    "json_2022 = res.json()"
   ]
  },
  {
   "cell_type": "code",
   "execution_count": 38,
   "metadata": {},
   "outputs": [
    {
     "data": {
      "text/plain": [
       "<Response [200]>"
      ]
     },
     "execution_count": 38,
     "metadata": {},
     "output_type": "execute_result"
    }
   ],
   "source": [
    "timestamp = datetime.datetime.now().strftime('%Y-%m-%d%H:%M:%S')\n",
    "params = {'ts': timestamp, \n",
    "        'limit': 100};\n",
    "url = \"http://twitterdata-env-1.eba-znn3kr4u.us-east-2.elasticbeanstalk.com/get_data?year=2023\"\n",
    "res = requests.get(url,params=params)\n",
    "res"
   ]
  },
  {
   "cell_type": "code",
   "execution_count": 39,
   "metadata": {},
   "outputs": [],
   "source": [
    "json_2023 = res.json()"
   ]
  },
  {
   "cell_type": "markdown",
   "metadata": {},
   "source": [
    "Hacemos dos dataframes de cada año y posteriormente los concatenamos"
   ]
  },
  {
   "cell_type": "code",
   "execution_count": 40,
   "metadata": {},
   "outputs": [],
   "source": [
    "data_list_2022 = json_2022['data']\n",
    "data_list_2023 = json_2023['data']\n",
    "df_2022 = pd.DataFrame(data_list_2022)\n",
    "df_2023 = pd.DataFrame(data_list_2023)"
   ]
  },
  {
   "cell_type": "code",
   "execution_count": 41,
   "metadata": {},
   "outputs": [
    {
     "data": {
      "text/html": [
       "<div>\n",
       "<style scoped>\n",
       "    .dataframe tbody tr th:only-of-type {\n",
       "        vertical-align: middle;\n",
       "    }\n",
       "\n",
       "    .dataframe tbody tr th {\n",
       "        vertical-align: top;\n",
       "    }\n",
       "\n",
       "    .dataframe thead th {\n",
       "        text-align: right;\n",
       "    }\n",
       "</style>\n",
       "<table border=\"1\" class=\"dataframe\">\n",
       "  <thead>\n",
       "    <tr style=\"text-align: right;\">\n",
       "      <th></th>\n",
       "      <th>author_id</th>\n",
       "      <th>created_at</th>\n",
       "      <th>edit_history_tweet_ids</th>\n",
       "      <th>id</th>\n",
       "      <th>public_metrics</th>\n",
       "      <th>text</th>\n",
       "    </tr>\n",
       "  </thead>\n",
       "  <tbody>\n",
       "    <tr>\n",
       "      <th>0</th>\n",
       "      <td>1151510939105144834</td>\n",
       "      <td>2022-12-29T16:39:19.000Z</td>\n",
       "      <td>[1608502937332113408]</td>\n",
       "      <td>1608502937332113408</td>\n",
       "      <td>{'impression_count': 113, 'like_count': 4, 'qu...</td>\n",
       "      <td>Empieza el año formándote en una de las profes...</td>\n",
       "    </tr>\n",
       "    <tr>\n",
       "      <th>1</th>\n",
       "      <td>570795448</td>\n",
       "      <td>2022-12-29T12:52:11.000Z</td>\n",
       "      <td>[1608445776732246017]</td>\n",
       "      <td>1608445776732246017</td>\n",
       "      <td>{'impression_count': 124, 'like_count': 2, 'qu...</td>\n",
       "      <td>Los 4 bootcamps tecnológicos de EDEM y @TheBri...</td>\n",
       "    </tr>\n",
       "    <tr>\n",
       "      <th>2</th>\n",
       "      <td>1128860148</td>\n",
       "      <td>2022-12-29T09:16:11.000Z</td>\n",
       "      <td>[1608391421014196224]</td>\n",
       "      <td>1608391421014196224</td>\n",
       "      <td>{'impression_count': 49, 'like_count': 2, 'quo...</td>\n",
       "      <td>@EDEMempresarios acoge el 12 de enero un Open ...</td>\n",
       "    </tr>\n",
       "    <tr>\n",
       "      <th>3</th>\n",
       "      <td>570795448</td>\n",
       "      <td>2022-12-27T09:00:57.000Z</td>\n",
       "      <td>[1607662809575292929]</td>\n",
       "      <td>1607662809575292929</td>\n",
       "      <td>{'impression_count': 218, 'like_count': 5, 'qu...</td>\n",
       "      <td>Si estás buscando una profesión que te cambie ...</td>\n",
       "    </tr>\n",
       "    <tr>\n",
       "      <th>4</th>\n",
       "      <td>1162694149956603904</td>\n",
       "      <td>2022-12-23T12:54:06.000Z</td>\n",
       "      <td>[1606271930763354112]</td>\n",
       "      <td>1606271930763354112</td>\n",
       "      <td>{'impression_count': 120, 'like_count': 1, 'qu...</td>\n",
       "      <td>En @TheBridge_Tech tenemos un deseo para ti💫\\n...</td>\n",
       "    </tr>\n",
       "  </tbody>\n",
       "</table>\n",
       "</div>"
      ],
      "text/plain": [
       "             author_id                created_at edit_history_tweet_ids  \\\n",
       "0  1151510939105144834  2022-12-29T16:39:19.000Z  [1608502937332113408]   \n",
       "1            570795448  2022-12-29T12:52:11.000Z  [1608445776732246017]   \n",
       "2           1128860148  2022-12-29T09:16:11.000Z  [1608391421014196224]   \n",
       "3            570795448  2022-12-27T09:00:57.000Z  [1607662809575292929]   \n",
       "4  1162694149956603904  2022-12-23T12:54:06.000Z  [1606271930763354112]   \n",
       "\n",
       "                    id                                     public_metrics  \\\n",
       "0  1608502937332113408  {'impression_count': 113, 'like_count': 4, 'qu...   \n",
       "1  1608445776732246017  {'impression_count': 124, 'like_count': 2, 'qu...   \n",
       "2  1608391421014196224  {'impression_count': 49, 'like_count': 2, 'quo...   \n",
       "3  1607662809575292929  {'impression_count': 218, 'like_count': 5, 'qu...   \n",
       "4  1606271930763354112  {'impression_count': 120, 'like_count': 1, 'qu...   \n",
       "\n",
       "                                                text  \n",
       "0  Empieza el año formándote en una de las profes...  \n",
       "1  Los 4 bootcamps tecnológicos de EDEM y @TheBri...  \n",
       "2  @EDEMempresarios acoge el 12 de enero un Open ...  \n",
       "3  Si estás buscando una profesión que te cambie ...  \n",
       "4  En @TheBridge_Tech tenemos un deseo para ti💫\\n...  "
      ]
     },
     "execution_count": 41,
     "metadata": {},
     "output_type": "execute_result"
    }
   ],
   "source": [
    "df_2022.head()"
   ]
  },
  {
   "cell_type": "code",
   "execution_count": 42,
   "metadata": {},
   "outputs": [
    {
     "data": {
      "text/html": [
       "<div>\n",
       "<style scoped>\n",
       "    .dataframe tbody tr th:only-of-type {\n",
       "        vertical-align: middle;\n",
       "    }\n",
       "\n",
       "    .dataframe tbody tr th {\n",
       "        vertical-align: top;\n",
       "    }\n",
       "\n",
       "    .dataframe thead th {\n",
       "        text-align: right;\n",
       "    }\n",
       "</style>\n",
       "<table border=\"1\" class=\"dataframe\">\n",
       "  <thead>\n",
       "    <tr style=\"text-align: right;\">\n",
       "      <th></th>\n",
       "      <th>author_id</th>\n",
       "      <th>created_at</th>\n",
       "      <th>edit_history_tweet_ids</th>\n",
       "      <th>id</th>\n",
       "      <th>public_metrics</th>\n",
       "      <th>text</th>\n",
       "    </tr>\n",
       "  </thead>\n",
       "  <tbody>\n",
       "    <tr>\n",
       "      <th>0</th>\n",
       "      <td>936539844079218688</td>\n",
       "      <td>2023-03-07T17:16:14.000Z</td>\n",
       "      <td>[1633154604018876416]</td>\n",
       "      <td>1633154604018876416</td>\n",
       "      <td>{'impression_count': 357, 'like_count': 8, 'qu...</td>\n",
       "      <td>¡Hola #dataholics! La primavera trompetera se ...</td>\n",
       "    </tr>\n",
       "    <tr>\n",
       "      <th>1</th>\n",
       "      <td>1585726199485140993</td>\n",
       "      <td>2023-03-06T10:38:30.000Z</td>\n",
       "      <td>[1632692123412594688]</td>\n",
       "      <td>1632692123412594688</td>\n",
       "      <td>{'impression_count': 31, 'like_count': 0, 'quo...</td>\n",
       "      <td>Las inscripciones se realizarán por Eventbrite...</td>\n",
       "    </tr>\n",
       "    <tr>\n",
       "      <th>2</th>\n",
       "      <td>1585726199485140993</td>\n",
       "      <td>2023-03-06T10:38:30.000Z</td>\n",
       "      <td>[1632692120719859712]</td>\n",
       "      <td>1632692120719859712</td>\n",
       "      <td>{'impression_count': 950, 'like_count': 5, 'qu...</td>\n",
       "      <td>¡Por fin podemos publicar el cartel con los po...</td>\n",
       "    </tr>\n",
       "    <tr>\n",
       "      <th>3</th>\n",
       "      <td>41545659</td>\n",
       "      <td>2023-03-06T08:48:56.000Z</td>\n",
       "      <td>[1632664546665025536]</td>\n",
       "      <td>1632664546665025536</td>\n",
       "      <td>{'impression_count': 90, 'like_count': 3, 'quo...</td>\n",
       "      <td>Encuentro de la @mlopscommunity en Madrid: \"ML...</td>\n",
       "    </tr>\n",
       "    <tr>\n",
       "      <th>4</th>\n",
       "      <td>925597948410580993</td>\n",
       "      <td>2023-03-04T22:32:56.000Z</td>\n",
       "      <td>[1632147141224275970]</td>\n",
       "      <td>1632147141224275970</td>\n",
       "      <td>{'impression_count': 35, 'like_count': 1, 'quo...</td>\n",
       "      <td>@nodosenlared @snowded @TheBridge_Tech Muy bue...</td>\n",
       "    </tr>\n",
       "  </tbody>\n",
       "</table>\n",
       "</div>"
      ],
      "text/plain": [
       "             author_id                created_at edit_history_tweet_ids  \\\n",
       "0   936539844079218688  2023-03-07T17:16:14.000Z  [1633154604018876416]   \n",
       "1  1585726199485140993  2023-03-06T10:38:30.000Z  [1632692123412594688]   \n",
       "2  1585726199485140993  2023-03-06T10:38:30.000Z  [1632692120719859712]   \n",
       "3             41545659  2023-03-06T08:48:56.000Z  [1632664546665025536]   \n",
       "4   925597948410580993  2023-03-04T22:32:56.000Z  [1632147141224275970]   \n",
       "\n",
       "                    id                                     public_metrics  \\\n",
       "0  1633154604018876416  {'impression_count': 357, 'like_count': 8, 'qu...   \n",
       "1  1632692123412594688  {'impression_count': 31, 'like_count': 0, 'quo...   \n",
       "2  1632692120719859712  {'impression_count': 950, 'like_count': 5, 'qu...   \n",
       "3  1632664546665025536  {'impression_count': 90, 'like_count': 3, 'quo...   \n",
       "4  1632147141224275970  {'impression_count': 35, 'like_count': 1, 'quo...   \n",
       "\n",
       "                                                text  \n",
       "0  ¡Hola #dataholics! La primavera trompetera se ...  \n",
       "1  Las inscripciones se realizarán por Eventbrite...  \n",
       "2  ¡Por fin podemos publicar el cartel con los po...  \n",
       "3  Encuentro de la @mlopscommunity en Madrid: \"ML...  \n",
       "4  @nodosenlared @snowded @TheBridge_Tech Muy bue...  "
      ]
     },
     "execution_count": 42,
     "metadata": {},
     "output_type": "execute_result"
    }
   ],
   "source": [
    "df_2023.head()"
   ]
  },
  {
   "cell_type": "code",
   "execution_count": 43,
   "metadata": {},
   "outputs": [
    {
     "data": {
      "text/plain": [
       "0    {'impression_count': 113, 'like_count': 4, 'qu...\n",
       "1    {'impression_count': 124, 'like_count': 2, 'qu...\n",
       "2    {'impression_count': 49, 'like_count': 2, 'quo...\n",
       "3    {'impression_count': 218, 'like_count': 5, 'qu...\n",
       "4    {'impression_count': 120, 'like_count': 1, 'qu...\n",
       "Name: public_metrics, dtype: object"
      ]
     },
     "execution_count": 43,
     "metadata": {},
     "output_type": "execute_result"
    }
   ],
   "source": [
    "df_2022.public_metrics.head()"
   ]
  },
  {
   "cell_type": "markdown",
   "metadata": {},
   "source": [
    "Esta columna esta como diccionario asique sacamos la información de ahí.\n"
   ]
  },
  {
   "cell_type": "code",
   "execution_count": 44,
   "metadata": {},
   "outputs": [],
   "source": [
    "df_norm_2022 = pd.json_normalize(df_2022['public_metrics'])\n",
    "df_norm_2023 = pd.json_normalize(df_2023['public_metrics'])\n",
    "df_2022 = result_df = pd.concat([df_2022, df_norm_2022], axis=1)\n",
    "df_2023 = result_df = pd.concat([df_2023, df_norm_2023], axis=1)"
   ]
  },
  {
   "cell_type": "code",
   "execution_count": 45,
   "metadata": {},
   "outputs": [
    {
     "data": {
      "text/html": [
       "<div>\n",
       "<style scoped>\n",
       "    .dataframe tbody tr th:only-of-type {\n",
       "        vertical-align: middle;\n",
       "    }\n",
       "\n",
       "    .dataframe tbody tr th {\n",
       "        vertical-align: top;\n",
       "    }\n",
       "\n",
       "    .dataframe thead th {\n",
       "        text-align: right;\n",
       "    }\n",
       "</style>\n",
       "<table border=\"1\" class=\"dataframe\">\n",
       "  <thead>\n",
       "    <tr style=\"text-align: right;\">\n",
       "      <th></th>\n",
       "      <th>author_id</th>\n",
       "      <th>created_at</th>\n",
       "      <th>edit_history_tweet_ids</th>\n",
       "      <th>id</th>\n",
       "      <th>public_metrics</th>\n",
       "      <th>text</th>\n",
       "      <th>impression_count</th>\n",
       "      <th>like_count</th>\n",
       "      <th>quote_count</th>\n",
       "      <th>reply_count</th>\n",
       "      <th>retweet_count</th>\n",
       "    </tr>\n",
       "  </thead>\n",
       "  <tbody>\n",
       "    <tr>\n",
       "      <th>0</th>\n",
       "      <td>1151510939105144834</td>\n",
       "      <td>2022-12-29T16:39:19.000Z</td>\n",
       "      <td>[1608502937332113408]</td>\n",
       "      <td>1608502937332113408</td>\n",
       "      <td>{'impression_count': 113, 'like_count': 4, 'qu...</td>\n",
       "      <td>Empieza el año formándote en una de las profes...</td>\n",
       "      <td>113</td>\n",
       "      <td>4</td>\n",
       "      <td>0</td>\n",
       "      <td>0</td>\n",
       "      <td>1</td>\n",
       "    </tr>\n",
       "    <tr>\n",
       "      <th>1</th>\n",
       "      <td>570795448</td>\n",
       "      <td>2022-12-29T12:52:11.000Z</td>\n",
       "      <td>[1608445776732246017]</td>\n",
       "      <td>1608445776732246017</td>\n",
       "      <td>{'impression_count': 124, 'like_count': 2, 'qu...</td>\n",
       "      <td>Los 4 bootcamps tecnológicos de EDEM y @TheBri...</td>\n",
       "      <td>124</td>\n",
       "      <td>2</td>\n",
       "      <td>0</td>\n",
       "      <td>0</td>\n",
       "      <td>0</td>\n",
       "    </tr>\n",
       "    <tr>\n",
       "      <th>2</th>\n",
       "      <td>1128860148</td>\n",
       "      <td>2022-12-29T09:16:11.000Z</td>\n",
       "      <td>[1608391421014196224]</td>\n",
       "      <td>1608391421014196224</td>\n",
       "      <td>{'impression_count': 49, 'like_count': 2, 'quo...</td>\n",
       "      <td>@EDEMempresarios acoge el 12 de enero un Open ...</td>\n",
       "      <td>49</td>\n",
       "      <td>2</td>\n",
       "      <td>0</td>\n",
       "      <td>0</td>\n",
       "      <td>0</td>\n",
       "    </tr>\n",
       "    <tr>\n",
       "      <th>3</th>\n",
       "      <td>570795448</td>\n",
       "      <td>2022-12-27T09:00:57.000Z</td>\n",
       "      <td>[1607662809575292929]</td>\n",
       "      <td>1607662809575292929</td>\n",
       "      <td>{'impression_count': 218, 'like_count': 5, 'qu...</td>\n",
       "      <td>Si estás buscando una profesión que te cambie ...</td>\n",
       "      <td>218</td>\n",
       "      <td>5</td>\n",
       "      <td>0</td>\n",
       "      <td>0</td>\n",
       "      <td>0</td>\n",
       "    </tr>\n",
       "    <tr>\n",
       "      <th>4</th>\n",
       "      <td>1162694149956603904</td>\n",
       "      <td>2022-12-23T12:54:06.000Z</td>\n",
       "      <td>[1606271930763354112]</td>\n",
       "      <td>1606271930763354112</td>\n",
       "      <td>{'impression_count': 120, 'like_count': 1, 'qu...</td>\n",
       "      <td>En @TheBridge_Tech tenemos un deseo para ti💫\\n...</td>\n",
       "      <td>120</td>\n",
       "      <td>1</td>\n",
       "      <td>0</td>\n",
       "      <td>0</td>\n",
       "      <td>1</td>\n",
       "    </tr>\n",
       "  </tbody>\n",
       "</table>\n",
       "</div>"
      ],
      "text/plain": [
       "             author_id                created_at edit_history_tweet_ids  \\\n",
       "0  1151510939105144834  2022-12-29T16:39:19.000Z  [1608502937332113408]   \n",
       "1            570795448  2022-12-29T12:52:11.000Z  [1608445776732246017]   \n",
       "2           1128860148  2022-12-29T09:16:11.000Z  [1608391421014196224]   \n",
       "3            570795448  2022-12-27T09:00:57.000Z  [1607662809575292929]   \n",
       "4  1162694149956603904  2022-12-23T12:54:06.000Z  [1606271930763354112]   \n",
       "\n",
       "                    id                                     public_metrics  \\\n",
       "0  1608502937332113408  {'impression_count': 113, 'like_count': 4, 'qu...   \n",
       "1  1608445776732246017  {'impression_count': 124, 'like_count': 2, 'qu...   \n",
       "2  1608391421014196224  {'impression_count': 49, 'like_count': 2, 'quo...   \n",
       "3  1607662809575292929  {'impression_count': 218, 'like_count': 5, 'qu...   \n",
       "4  1606271930763354112  {'impression_count': 120, 'like_count': 1, 'qu...   \n",
       "\n",
       "                                                text  impression_count  \\\n",
       "0  Empieza el año formándote en una de las profes...               113   \n",
       "1  Los 4 bootcamps tecnológicos de EDEM y @TheBri...               124   \n",
       "2  @EDEMempresarios acoge el 12 de enero un Open ...                49   \n",
       "3  Si estás buscando una profesión que te cambie ...               218   \n",
       "4  En @TheBridge_Tech tenemos un deseo para ti💫\\n...               120   \n",
       "\n",
       "   like_count  quote_count  reply_count  retweet_count  \n",
       "0           4            0            0              1  \n",
       "1           2            0            0              0  \n",
       "2           2            0            0              0  \n",
       "3           5            0            0              0  \n",
       "4           1            0            0              1  "
      ]
     },
     "execution_count": 45,
     "metadata": {},
     "output_type": "execute_result"
    }
   ],
   "source": [
    "df_2022.head()"
   ]
  },
  {
   "cell_type": "markdown",
   "metadata": {},
   "source": [
    "Ahora concatenamos los dos df"
   ]
  },
  {
   "cell_type": "code",
   "execution_count": 46,
   "metadata": {},
   "outputs": [],
   "source": [
    "df_unido = pd.concat([df_2022, df_2023],ignore_index=True)"
   ]
  },
  {
   "cell_type": "code",
   "execution_count": 47,
   "metadata": {},
   "outputs": [
    {
     "data": {
      "text/html": [
       "<div>\n",
       "<style scoped>\n",
       "    .dataframe tbody tr th:only-of-type {\n",
       "        vertical-align: middle;\n",
       "    }\n",
       "\n",
       "    .dataframe tbody tr th {\n",
       "        vertical-align: top;\n",
       "    }\n",
       "\n",
       "    .dataframe thead th {\n",
       "        text-align: right;\n",
       "    }\n",
       "</style>\n",
       "<table border=\"1\" class=\"dataframe\">\n",
       "  <thead>\n",
       "    <tr style=\"text-align: right;\">\n",
       "      <th></th>\n",
       "      <th>author_id</th>\n",
       "      <th>created_at</th>\n",
       "      <th>edit_history_tweet_ids</th>\n",
       "      <th>id</th>\n",
       "      <th>public_metrics</th>\n",
       "      <th>text</th>\n",
       "      <th>impression_count</th>\n",
       "      <th>like_count</th>\n",
       "      <th>quote_count</th>\n",
       "      <th>reply_count</th>\n",
       "      <th>retweet_count</th>\n",
       "    </tr>\n",
       "  </thead>\n",
       "  <tbody>\n",
       "    <tr>\n",
       "      <th>0</th>\n",
       "      <td>1151510939105144834</td>\n",
       "      <td>2022-12-29T16:39:19.000Z</td>\n",
       "      <td>[1608502937332113408]</td>\n",
       "      <td>1608502937332113408</td>\n",
       "      <td>{'impression_count': 113, 'like_count': 4, 'qu...</td>\n",
       "      <td>Empieza el año formándote en una de las profes...</td>\n",
       "      <td>113</td>\n",
       "      <td>4</td>\n",
       "      <td>0</td>\n",
       "      <td>0</td>\n",
       "      <td>1</td>\n",
       "    </tr>\n",
       "    <tr>\n",
       "      <th>1</th>\n",
       "      <td>570795448</td>\n",
       "      <td>2022-12-29T12:52:11.000Z</td>\n",
       "      <td>[1608445776732246017]</td>\n",
       "      <td>1608445776732246017</td>\n",
       "      <td>{'impression_count': 124, 'like_count': 2, 'qu...</td>\n",
       "      <td>Los 4 bootcamps tecnológicos de EDEM y @TheBri...</td>\n",
       "      <td>124</td>\n",
       "      <td>2</td>\n",
       "      <td>0</td>\n",
       "      <td>0</td>\n",
       "      <td>0</td>\n",
       "    </tr>\n",
       "    <tr>\n",
       "      <th>2</th>\n",
       "      <td>1128860148</td>\n",
       "      <td>2022-12-29T09:16:11.000Z</td>\n",
       "      <td>[1608391421014196224]</td>\n",
       "      <td>1608391421014196224</td>\n",
       "      <td>{'impression_count': 49, 'like_count': 2, 'quo...</td>\n",
       "      <td>@EDEMempresarios acoge el 12 de enero un Open ...</td>\n",
       "      <td>49</td>\n",
       "      <td>2</td>\n",
       "      <td>0</td>\n",
       "      <td>0</td>\n",
       "      <td>0</td>\n",
       "    </tr>\n",
       "    <tr>\n",
       "      <th>3</th>\n",
       "      <td>570795448</td>\n",
       "      <td>2022-12-27T09:00:57.000Z</td>\n",
       "      <td>[1607662809575292929]</td>\n",
       "      <td>1607662809575292929</td>\n",
       "      <td>{'impression_count': 218, 'like_count': 5, 'qu...</td>\n",
       "      <td>Si estás buscando una profesión que te cambie ...</td>\n",
       "      <td>218</td>\n",
       "      <td>5</td>\n",
       "      <td>0</td>\n",
       "      <td>0</td>\n",
       "      <td>0</td>\n",
       "    </tr>\n",
       "    <tr>\n",
       "      <th>4</th>\n",
       "      <td>1162694149956603904</td>\n",
       "      <td>2022-12-23T12:54:06.000Z</td>\n",
       "      <td>[1606271930763354112]</td>\n",
       "      <td>1606271930763354112</td>\n",
       "      <td>{'impression_count': 120, 'like_count': 1, 'qu...</td>\n",
       "      <td>En @TheBridge_Tech tenemos un deseo para ti💫\\n...</td>\n",
       "      <td>120</td>\n",
       "      <td>1</td>\n",
       "      <td>0</td>\n",
       "      <td>0</td>\n",
       "      <td>1</td>\n",
       "    </tr>\n",
       "    <tr>\n",
       "      <th>...</th>\n",
       "      <td>...</td>\n",
       "      <td>...</td>\n",
       "      <td>...</td>\n",
       "      <td>...</td>\n",
       "      <td>...</td>\n",
       "      <td>...</td>\n",
       "      <td>...</td>\n",
       "      <td>...</td>\n",
       "      <td>...</td>\n",
       "      <td>...</td>\n",
       "      <td>...</td>\n",
       "    </tr>\n",
       "    <tr>\n",
       "      <th>144</th>\n",
       "      <td>271028835</td>\n",
       "      <td>2023-01-07T19:55:52.000Z</td>\n",
       "      <td>[1611813891322908672]</td>\n",
       "      <td>1611813891322908672</td>\n",
       "      <td>{'impression_count': 166, 'like_count': 7, 'qu...</td>\n",
       "      <td>🚀 @EDEMempresarios  y @TheBridge_Tech  se alía...</td>\n",
       "      <td>166</td>\n",
       "      <td>7</td>\n",
       "      <td>0</td>\n",
       "      <td>0</td>\n",
       "      <td>2</td>\n",
       "    </tr>\n",
       "    <tr>\n",
       "      <th>145</th>\n",
       "      <td>1530194743786881024</td>\n",
       "      <td>2023-01-06T12:28:27.000Z</td>\n",
       "      <td>[1611338908196913153]</td>\n",
       "      <td>1611338908196913153</td>\n",
       "      <td>{'impression_count': 51, 'like_count': 2, 'quo...</td>\n",
       "      <td>Gracias a nuestros amigos @TheBridge_Tech por ...</td>\n",
       "      <td>51</td>\n",
       "      <td>2</td>\n",
       "      <td>0</td>\n",
       "      <td>0</td>\n",
       "      <td>0</td>\n",
       "    </tr>\n",
       "    <tr>\n",
       "      <th>146</th>\n",
       "      <td>10279282</td>\n",
       "      <td>2023-01-04T15:02:11.000Z</td>\n",
       "      <td>[1610652818234347521]</td>\n",
       "      <td>1610652818234347521</td>\n",
       "      <td>{'impression_count': 82, 'like_count': 3, 'quo...</td>\n",
       "      <td>¿Te interesa el diseño de #producto digital? V...</td>\n",
       "      <td>82</td>\n",
       "      <td>3</td>\n",
       "      <td>0</td>\n",
       "      <td>0</td>\n",
       "      <td>2</td>\n",
       "    </tr>\n",
       "    <tr>\n",
       "      <th>147</th>\n",
       "      <td>2402179123</td>\n",
       "      <td>2023-01-04T11:57:41.000Z</td>\n",
       "      <td>[1610606391445815297]</td>\n",
       "      <td>1610606391445815297</td>\n",
       "      <td>{'impression_count': 116, 'like_count': 3, 'qu...</td>\n",
       "      <td>¡Empezamos el año con una #masterclass de #uxu...</td>\n",
       "      <td>116</td>\n",
       "      <td>3</td>\n",
       "      <td>0</td>\n",
       "      <td>0</td>\n",
       "      <td>2</td>\n",
       "    </tr>\n",
       "    <tr>\n",
       "      <th>148</th>\n",
       "      <td>874916978665938945</td>\n",
       "      <td>2023-01-02T15:15:00.000Z</td>\n",
       "      <td>[1609931268921114627]</td>\n",
       "      <td>1609931268921114627</td>\n",
       "      <td>{'impression_count': 593, 'like_count': 5, 'qu...</td>\n",
       "      <td>🤝 @EDEMempresarios se alía con @TheBridge_Tech...</td>\n",
       "      <td>593</td>\n",
       "      <td>5</td>\n",
       "      <td>0</td>\n",
       "      <td>0</td>\n",
       "      <td>1</td>\n",
       "    </tr>\n",
       "  </tbody>\n",
       "</table>\n",
       "<p>149 rows × 11 columns</p>\n",
       "</div>"
      ],
      "text/plain": [
       "               author_id                created_at edit_history_tweet_ids  \\\n",
       "0    1151510939105144834  2022-12-29T16:39:19.000Z  [1608502937332113408]   \n",
       "1              570795448  2022-12-29T12:52:11.000Z  [1608445776732246017]   \n",
       "2             1128860148  2022-12-29T09:16:11.000Z  [1608391421014196224]   \n",
       "3              570795448  2022-12-27T09:00:57.000Z  [1607662809575292929]   \n",
       "4    1162694149956603904  2022-12-23T12:54:06.000Z  [1606271930763354112]   \n",
       "..                   ...                       ...                    ...   \n",
       "144            271028835  2023-01-07T19:55:52.000Z  [1611813891322908672]   \n",
       "145  1530194743786881024  2023-01-06T12:28:27.000Z  [1611338908196913153]   \n",
       "146             10279282  2023-01-04T15:02:11.000Z  [1610652818234347521]   \n",
       "147           2402179123  2023-01-04T11:57:41.000Z  [1610606391445815297]   \n",
       "148   874916978665938945  2023-01-02T15:15:00.000Z  [1609931268921114627]   \n",
       "\n",
       "                      id                                     public_metrics  \\\n",
       "0    1608502937332113408  {'impression_count': 113, 'like_count': 4, 'qu...   \n",
       "1    1608445776732246017  {'impression_count': 124, 'like_count': 2, 'qu...   \n",
       "2    1608391421014196224  {'impression_count': 49, 'like_count': 2, 'quo...   \n",
       "3    1607662809575292929  {'impression_count': 218, 'like_count': 5, 'qu...   \n",
       "4    1606271930763354112  {'impression_count': 120, 'like_count': 1, 'qu...   \n",
       "..                   ...                                                ...   \n",
       "144  1611813891322908672  {'impression_count': 166, 'like_count': 7, 'qu...   \n",
       "145  1611338908196913153  {'impression_count': 51, 'like_count': 2, 'quo...   \n",
       "146  1610652818234347521  {'impression_count': 82, 'like_count': 3, 'quo...   \n",
       "147  1610606391445815297  {'impression_count': 116, 'like_count': 3, 'qu...   \n",
       "148  1609931268921114627  {'impression_count': 593, 'like_count': 5, 'qu...   \n",
       "\n",
       "                                                  text  impression_count  \\\n",
       "0    Empieza el año formándote en una de las profes...               113   \n",
       "1    Los 4 bootcamps tecnológicos de EDEM y @TheBri...               124   \n",
       "2    @EDEMempresarios acoge el 12 de enero un Open ...                49   \n",
       "3    Si estás buscando una profesión que te cambie ...               218   \n",
       "4    En @TheBridge_Tech tenemos un deseo para ti💫\\n...               120   \n",
       "..                                                 ...               ...   \n",
       "144  🚀 @EDEMempresarios  y @TheBridge_Tech  se alía...               166   \n",
       "145  Gracias a nuestros amigos @TheBridge_Tech por ...                51   \n",
       "146  ¿Te interesa el diseño de #producto digital? V...                82   \n",
       "147  ¡Empezamos el año con una #masterclass de #uxu...               116   \n",
       "148  🤝 @EDEMempresarios se alía con @TheBridge_Tech...               593   \n",
       "\n",
       "     like_count  quote_count  reply_count  retweet_count  \n",
       "0             4            0            0              1  \n",
       "1             2            0            0              0  \n",
       "2             2            0            0              0  \n",
       "3             5            0            0              0  \n",
       "4             1            0            0              1  \n",
       "..          ...          ...          ...            ...  \n",
       "144           7            0            0              2  \n",
       "145           2            0            0              0  \n",
       "146           3            0            0              2  \n",
       "147           3            0            0              2  \n",
       "148           5            0            0              1  \n",
       "\n",
       "[149 rows x 11 columns]"
      ]
     },
     "execution_count": 47,
     "metadata": {},
     "output_type": "execute_result"
    }
   ],
   "source": [
    "df_unido"
   ]
  },
  {
   "cell_type": "markdown",
   "metadata": {},
   "source": [
    "Voy a cambiar las fechas y ponerlas con día,mes y año por separado."
   ]
  },
  {
   "cell_type": "code",
   "execution_count": 48,
   "metadata": {},
   "outputs": [],
   "source": [
    "df_unido['created_at'] = pd.to_datetime(df_unido['created_at'], errors='coerce')\n",
    "df_unido['dia'] = df_unido['created_at'].dt.day\n",
    "df_unido['mes'] = df_unido['created_at'].dt.month\n",
    "df_unido['año'] = df_unido['created_at'].dt.year"
   ]
  },
  {
   "cell_type": "code",
   "execution_count": 49,
   "metadata": {},
   "outputs": [
    {
     "data": {
      "text/html": [
       "<div>\n",
       "<style scoped>\n",
       "    .dataframe tbody tr th:only-of-type {\n",
       "        vertical-align: middle;\n",
       "    }\n",
       "\n",
       "    .dataframe tbody tr th {\n",
       "        vertical-align: top;\n",
       "    }\n",
       "\n",
       "    .dataframe thead th {\n",
       "        text-align: right;\n",
       "    }\n",
       "</style>\n",
       "<table border=\"1\" class=\"dataframe\">\n",
       "  <thead>\n",
       "    <tr style=\"text-align: right;\">\n",
       "      <th></th>\n",
       "      <th>author_id</th>\n",
       "      <th>created_at</th>\n",
       "      <th>edit_history_tweet_ids</th>\n",
       "      <th>id</th>\n",
       "      <th>public_metrics</th>\n",
       "      <th>text</th>\n",
       "      <th>impression_count</th>\n",
       "      <th>like_count</th>\n",
       "      <th>quote_count</th>\n",
       "      <th>reply_count</th>\n",
       "      <th>retweet_count</th>\n",
       "      <th>dia</th>\n",
       "      <th>mes</th>\n",
       "      <th>año</th>\n",
       "    </tr>\n",
       "  </thead>\n",
       "  <tbody>\n",
       "    <tr>\n",
       "      <th>0</th>\n",
       "      <td>1151510939105144834</td>\n",
       "      <td>2022-12-29 16:39:19+00:00</td>\n",
       "      <td>[1608502937332113408]</td>\n",
       "      <td>1608502937332113408</td>\n",
       "      <td>{'impression_count': 113, 'like_count': 4, 'qu...</td>\n",
       "      <td>Empieza el año formándote en una de las profes...</td>\n",
       "      <td>113</td>\n",
       "      <td>4</td>\n",
       "      <td>0</td>\n",
       "      <td>0</td>\n",
       "      <td>1</td>\n",
       "      <td>29</td>\n",
       "      <td>12</td>\n",
       "      <td>2022</td>\n",
       "    </tr>\n",
       "    <tr>\n",
       "      <th>1</th>\n",
       "      <td>570795448</td>\n",
       "      <td>2022-12-29 12:52:11+00:00</td>\n",
       "      <td>[1608445776732246017]</td>\n",
       "      <td>1608445776732246017</td>\n",
       "      <td>{'impression_count': 124, 'like_count': 2, 'qu...</td>\n",
       "      <td>Los 4 bootcamps tecnológicos de EDEM y @TheBri...</td>\n",
       "      <td>124</td>\n",
       "      <td>2</td>\n",
       "      <td>0</td>\n",
       "      <td>0</td>\n",
       "      <td>0</td>\n",
       "      <td>29</td>\n",
       "      <td>12</td>\n",
       "      <td>2022</td>\n",
       "    </tr>\n",
       "    <tr>\n",
       "      <th>2</th>\n",
       "      <td>1128860148</td>\n",
       "      <td>2022-12-29 09:16:11+00:00</td>\n",
       "      <td>[1608391421014196224]</td>\n",
       "      <td>1608391421014196224</td>\n",
       "      <td>{'impression_count': 49, 'like_count': 2, 'quo...</td>\n",
       "      <td>@EDEMempresarios acoge el 12 de enero un Open ...</td>\n",
       "      <td>49</td>\n",
       "      <td>2</td>\n",
       "      <td>0</td>\n",
       "      <td>0</td>\n",
       "      <td>0</td>\n",
       "      <td>29</td>\n",
       "      <td>12</td>\n",
       "      <td>2022</td>\n",
       "    </tr>\n",
       "    <tr>\n",
       "      <th>3</th>\n",
       "      <td>570795448</td>\n",
       "      <td>2022-12-27 09:00:57+00:00</td>\n",
       "      <td>[1607662809575292929]</td>\n",
       "      <td>1607662809575292929</td>\n",
       "      <td>{'impression_count': 218, 'like_count': 5, 'qu...</td>\n",
       "      <td>Si estás buscando una profesión que te cambie ...</td>\n",
       "      <td>218</td>\n",
       "      <td>5</td>\n",
       "      <td>0</td>\n",
       "      <td>0</td>\n",
       "      <td>0</td>\n",
       "      <td>27</td>\n",
       "      <td>12</td>\n",
       "      <td>2022</td>\n",
       "    </tr>\n",
       "    <tr>\n",
       "      <th>4</th>\n",
       "      <td>1162694149956603904</td>\n",
       "      <td>2022-12-23 12:54:06+00:00</td>\n",
       "      <td>[1606271930763354112]</td>\n",
       "      <td>1606271930763354112</td>\n",
       "      <td>{'impression_count': 120, 'like_count': 1, 'qu...</td>\n",
       "      <td>En @TheBridge_Tech tenemos un deseo para ti💫\\n...</td>\n",
       "      <td>120</td>\n",
       "      <td>1</td>\n",
       "      <td>0</td>\n",
       "      <td>0</td>\n",
       "      <td>1</td>\n",
       "      <td>23</td>\n",
       "      <td>12</td>\n",
       "      <td>2022</td>\n",
       "    </tr>\n",
       "  </tbody>\n",
       "</table>\n",
       "</div>"
      ],
      "text/plain": [
       "             author_id                created_at edit_history_tweet_ids  \\\n",
       "0  1151510939105144834 2022-12-29 16:39:19+00:00  [1608502937332113408]   \n",
       "1            570795448 2022-12-29 12:52:11+00:00  [1608445776732246017]   \n",
       "2           1128860148 2022-12-29 09:16:11+00:00  [1608391421014196224]   \n",
       "3            570795448 2022-12-27 09:00:57+00:00  [1607662809575292929]   \n",
       "4  1162694149956603904 2022-12-23 12:54:06+00:00  [1606271930763354112]   \n",
       "\n",
       "                    id                                     public_metrics  \\\n",
       "0  1608502937332113408  {'impression_count': 113, 'like_count': 4, 'qu...   \n",
       "1  1608445776732246017  {'impression_count': 124, 'like_count': 2, 'qu...   \n",
       "2  1608391421014196224  {'impression_count': 49, 'like_count': 2, 'quo...   \n",
       "3  1607662809575292929  {'impression_count': 218, 'like_count': 5, 'qu...   \n",
       "4  1606271930763354112  {'impression_count': 120, 'like_count': 1, 'qu...   \n",
       "\n",
       "                                                text  impression_count  \\\n",
       "0  Empieza el año formándote en una de las profes...               113   \n",
       "1  Los 4 bootcamps tecnológicos de EDEM y @TheBri...               124   \n",
       "2  @EDEMempresarios acoge el 12 de enero un Open ...                49   \n",
       "3  Si estás buscando una profesión que te cambie ...               218   \n",
       "4  En @TheBridge_Tech tenemos un deseo para ti💫\\n...               120   \n",
       "\n",
       "   like_count  quote_count  reply_count  retweet_count  dia  mes   año  \n",
       "0           4            0            0              1   29   12  2022  \n",
       "1           2            0            0              0   29   12  2022  \n",
       "2           2            0            0              0   29   12  2022  \n",
       "3           5            0            0              0   27   12  2022  \n",
       "4           1            0            0              1   23   12  2022  "
      ]
     },
     "execution_count": 49,
     "metadata": {},
     "output_type": "execute_result"
    }
   ],
   "source": [
    "df_unido.head()"
   ]
  },
  {
   "cell_type": "code",
   "execution_count": 50,
   "metadata": {},
   "outputs": [
    {
     "name": "stdout",
     "output_type": "stream",
     "text": [
      "<class 'pandas.core.frame.DataFrame'>\n",
      "RangeIndex: 149 entries, 0 to 148\n",
      "Data columns (total 14 columns):\n",
      " #   Column                  Non-Null Count  Dtype              \n",
      "---  ------                  --------------  -----              \n",
      " 0   author_id               149 non-null    object             \n",
      " 1   created_at              149 non-null    datetime64[ns, UTC]\n",
      " 2   edit_history_tweet_ids  149 non-null    object             \n",
      " 3   id                      149 non-null    object             \n",
      " 4   public_metrics          149 non-null    object             \n",
      " 5   text                    149 non-null    object             \n",
      " 6   impression_count        149 non-null    int64              \n",
      " 7   like_count              149 non-null    int64              \n",
      " 8   quote_count             149 non-null    int64              \n",
      " 9   reply_count             149 non-null    int64              \n",
      " 10  retweet_count           149 non-null    int64              \n",
      " 11  dia                     149 non-null    int32              \n",
      " 12  mes                     149 non-null    int32              \n",
      " 13  año                     149 non-null    int32              \n",
      "dtypes: datetime64[ns, UTC](1), int32(3), int64(5), object(5)\n",
      "memory usage: 14.7+ KB\n"
     ]
    }
   ],
   "source": [
    "df_unido.info()"
   ]
  },
  {
   "cell_type": "markdown",
   "metadata": {},
   "source": [
    "[Volver al índice](#0)"
   ]
  },
  {
   "cell_type": "markdown",
   "metadata": {},
   "source": [
    "<a id=\"2\"></a> <br>\n",
    "### 2. AWS enlace con BD\n",
    "\n",
    "Listo todo ello, vamos a lanzar la información a un servidor SQL en AWS."
   ]
  },
  {
   "cell_type": "markdown",
   "metadata": {},
   "source": [
    "Primero necesitaremos acceder a nuestra base de datos.  \n",
    "1 . Endpoint/Host  \n",
    "2 . Usuario  \n",
    "3 . Contraseña  "
   ]
  },
  {
   "cell_type": "code",
   "execution_count": 86,
   "metadata": {},
   "outputs": [],
   "source": [
    "username = \"admin\"\n",
    "password = \"12345678\"\n",
    "host = \"database-1.cdchgain8wey.us-west-2.rds.amazonaws.com\" \n",
    "port = 3306"
   ]
  },
  {
   "cell_type": "code",
   "execution_count": 87,
   "metadata": {},
   "outputs": [],
   "source": [
    "db = pymysql.connect(host = host,\n",
    "                     user = username,\n",
    "                     password = password,\n",
    "                     cursorclass = pymysql.cursors.DictCursor\n",
    ")\n",
    "\n",
    "\n",
    "cursor = db.cursor()"
   ]
  },
  {
   "cell_type": "code",
   "execution_count": null,
   "metadata": {},
   "outputs": [],
   "source": [
    "create_db = '''CREATE DATABASE sent_tweet_TheBridgetech'''\n",
    "cursor.execute(create_db)"
   ]
  },
  {
   "cell_type": "code",
   "execution_count": 66,
   "metadata": {},
   "outputs": [
    {
     "data": {
      "text/plain": [
       "[{'Database': 'information_schema'},\n",
       " {'Database': 'mysql'},\n",
       " {'Database': 'performance_schema'},\n",
       " {'Database': 'sent_tweet_TheBridgetech'},\n",
       " {'Database': 'sys'}]"
      ]
     },
     "execution_count": 66,
     "metadata": {},
     "output_type": "execute_result"
    }
   ],
   "source": [
    "cursor.execute('SHOW DATABASES')\n",
    "cursor.fetchall()"
   ]
  },
  {
   "cell_type": "code",
   "execution_count": 70,
   "metadata": {},
   "outputs": [
    {
     "data": {
      "text/plain": [
       "0"
      ]
     },
     "execution_count": 70,
     "metadata": {},
     "output_type": "execute_result"
    }
   ],
   "source": [
    "cursor.connection.commit()\n",
    "use_db = ''' USE sent_tweet_TheBridgetech'''\n",
    "cursor.execute(use_db)"
   ]
  },
  {
   "cell_type": "code",
   "execution_count": 74,
   "metadata": {},
   "outputs": [
    {
     "data": {
      "text/plain": [
       "0"
      ]
     },
     "execution_count": 74,
     "metadata": {},
     "output_type": "execute_result"
    }
   ],
   "source": [
    "# Crearemos dos tablas una para recopilar la informacion relativa a los mensajes-usuarios y otra a las reacciones.\n",
    "create_table = '''\n",
    "CREATE TABLE usr_msg (\n",
    "    author_id INTEGER,\n",
    "    created_at TEXT,\n",
    "    id INT,\n",
    "    text INT,\n",
    "    dia INT,\n",
    "    mes INT,\n",
    "    año INT\n",
    ")\n",
    "'''\n",
    "cursor.execute(create_table)"
   ]
  },
  {
   "cell_type": "markdown",
   "metadata": {},
   "source": [
    "\n"
   ]
  },
  {
   "cell_type": "code",
   "execution_count": 77,
   "metadata": {},
   "outputs": [
    {
     "data": {
      "text/plain": [
       "0"
      ]
     },
     "execution_count": 77,
     "metadata": {},
     "output_type": "execute_result"
    }
   ],
   "source": [
    "# Crearemos la segunda tabla.\n",
    "create_table_2 = '''\n",
    "CREATE TABLE react (\n",
    "    impression_count INT,\n",
    "    like_count INT,\n",
    "    quote_count INT,\n",
    "    reply_count INT,\n",
    "    retweet_count INT\n",
    ")\n",
    "'''\n",
    "cursor.execute(create_table_2)"
   ]
  },
  {
   "cell_type": "code",
   "execution_count": 78,
   "metadata": {},
   "outputs": [
    {
     "data": {
      "text/plain": [
       "[{'Tables_in_sent_tweet_TheBridgetech': 'react'},\n",
       " {'Tables_in_sent_tweet_TheBridgetech': 'usr_msg'}]"
      ]
     },
     "execution_count": 78,
     "metadata": {},
     "output_type": "execute_result"
    }
   ],
   "source": [
    "cursor.execute('SHOW TABLES')\n",
    "cursor.fetchall()"
   ]
  },
  {
   "cell_type": "markdown",
   "metadata": {},
   "source": [
    "Guardamos los cambios realizados anteriormente y cerramos la conexión."
   ]
  },
  {
   "cell_type": "code",
   "execution_count": 79,
   "metadata": {},
   "outputs": [],
   "source": [
    "db.commit()"
   ]
  },
  {
   "cell_type": "code",
   "execution_count": 89,
   "metadata": {},
   "outputs": [],
   "source": [
    "db.close()"
   ]
  },
  {
   "cell_type": "code",
   "execution_count": 96,
   "metadata": {},
   "outputs": [],
   "source": [
    "db = pymysql.connect(host = host,\n",
    "                     user = username,\n",
    "                     password = password,\n",
    "                     cursorclass = pymysql.cursors.DictCursor\n",
    ")\n",
    "\n",
    "\n",
    "cursor = db.cursor()"
   ]
  },
  {
   "cell_type": "code",
   "execution_count": 97,
   "metadata": {},
   "outputs": [
    {
     "data": {
      "text/plain": [
       "0"
      ]
     },
     "execution_count": 97,
     "metadata": {},
     "output_type": "execute_result"
    }
   ],
   "source": [
    "cursor.connection.commit()\n",
    "use_db = ''' USE sent_tweet_TheBridgetech'''\n",
    "cursor.execute(use_db)"
   ]
  },
  {
   "cell_type": "markdown",
   "metadata": {},
   "source": [
    "Insertamos los datos en la primera tabla"
   ]
  },
  {
   "cell_type": "code",
   "execution_count": 91,
   "metadata": {},
   "outputs": [],
   "source": [
    "try:\n",
    "    # Crear un cursor para ejecutar las declaraciones SQL\n",
    "    with db.cursor() as cursor:\n",
    "        for index, row in df_unido.iterrows():\n",
    "            sql = \"INSERT INTO usr_msg (author_id, created_at, id, text, dia, mes, año) VALUES (%s, %s, %s, %s, %s, %s, %s)\"  \n",
    "            cursor.execute(sql, (row['author_id'], row['created_at'], row['id'], row['text'], row['dia'], row['mes'], row['año']))  \n",
    "\n",
    "    db.commit()\n",
    "\n",
    "except Exception as e:\n",
    "    print(f\"Error: {e}\")\n",
    "    db.rollback()\n"
   ]
  },
  {
   "cell_type": "code",
   "execution_count": 87,
   "metadata": {},
   "outputs": [
    {
     "name": "stdout",
     "output_type": "stream",
     "text": [
      "<class 'pandas.core.frame.DataFrame'>\n",
      "RangeIndex: 149 entries, 0 to 148\n",
      "Data columns (total 14 columns):\n",
      " #   Column                  Non-Null Count  Dtype              \n",
      "---  ------                  --------------  -----              \n",
      " 0   author_id               149 non-null    object             \n",
      " 1   created_at              149 non-null    datetime64[ns, UTC]\n",
      " 2   edit_history_tweet_ids  149 non-null    object             \n",
      " 3   id                      149 non-null    object             \n",
      " 4   public_metrics          149 non-null    object             \n",
      " 5   text                    149 non-null    object             \n",
      " 6   impression_count        149 non-null    int64              \n",
      " 7   like_count              149 non-null    int64              \n",
      " 8   quote_count             149 non-null    int64              \n",
      " 9   reply_count             149 non-null    int64              \n",
      " 10  retweet_count           149 non-null    int64              \n",
      " 11  dia                     149 non-null    int32              \n",
      " 12  mes                     149 non-null    int32              \n",
      " 13  año                     149 non-null    int32              \n",
      "dtypes: datetime64[ns, UTC](1), int32(3), int64(5), object(5)\n",
      "memory usage: 14.7+ KB\n"
     ]
    }
   ],
   "source": [
    "df_unido.info()"
   ]
  },
  {
   "cell_type": "markdown",
   "metadata": {},
   "source": [
    "Hacemos lo mismo para la segunda tabla"
   ]
  },
  {
   "cell_type": "code",
   "execution_count": 94,
   "metadata": {},
   "outputs": [],
   "source": [
    "try:\n",
    "    # Crear un cursor para ejecutar las declaraciones SQL\n",
    "    with db.cursor() as cursor:\n",
    "        for index, row in df_unido.iterrows():\n",
    "            sql = \"INSERT INTO react (impression_count, like_count, quote_count, reply_count, retweet_count) VALUES (%s, %s, %s, %s, %s)\"  \n",
    "            cursor.execute(sql, (row['impression_count'], row['like_count'], row['quote_count'], row['reply_count'], row['retweet_count']))  \n",
    "\n",
    "    db.commit()\n",
    "\n",
    "except Exception as e:\n",
    "    print(f\"Error: {e}\")\n",
    "    db.rollback()\n"
   ]
  },
  {
   "cell_type": "markdown",
   "metadata": {},
   "source": [
    "Comprobamos"
   ]
  },
  {
   "cell_type": "code",
   "execution_count": 98,
   "metadata": {},
   "outputs": [
    {
     "data": {
      "text/html": [
       "<div>\n",
       "<style scoped>\n",
       "    .dataframe tbody tr th:only-of-type {\n",
       "        vertical-align: middle;\n",
       "    }\n",
       "\n",
       "    .dataframe tbody tr th {\n",
       "        vertical-align: top;\n",
       "    }\n",
       "\n",
       "    .dataframe thead th {\n",
       "        text-align: right;\n",
       "    }\n",
       "</style>\n",
       "<table border=\"1\" class=\"dataframe\">\n",
       "  <thead>\n",
       "    <tr style=\"text-align: right;\">\n",
       "      <th></th>\n",
       "      <th>impression_count</th>\n",
       "      <th>like_count</th>\n",
       "      <th>quote_count</th>\n",
       "      <th>reply_count</th>\n",
       "      <th>retweet_count</th>\n",
       "    </tr>\n",
       "  </thead>\n",
       "  <tbody>\n",
       "    <tr>\n",
       "      <th>0</th>\n",
       "      <td>113</td>\n",
       "      <td>4</td>\n",
       "      <td>0</td>\n",
       "      <td>0</td>\n",
       "      <td>1</td>\n",
       "    </tr>\n",
       "    <tr>\n",
       "      <th>1</th>\n",
       "      <td>124</td>\n",
       "      <td>2</td>\n",
       "      <td>0</td>\n",
       "      <td>0</td>\n",
       "      <td>0</td>\n",
       "    </tr>\n",
       "    <tr>\n",
       "      <th>2</th>\n",
       "      <td>49</td>\n",
       "      <td>2</td>\n",
       "      <td>0</td>\n",
       "      <td>0</td>\n",
       "      <td>0</td>\n",
       "    </tr>\n",
       "    <tr>\n",
       "      <th>3</th>\n",
       "      <td>218</td>\n",
       "      <td>5</td>\n",
       "      <td>0</td>\n",
       "      <td>0</td>\n",
       "      <td>0</td>\n",
       "    </tr>\n",
       "    <tr>\n",
       "      <th>4</th>\n",
       "      <td>120</td>\n",
       "      <td>1</td>\n",
       "      <td>0</td>\n",
       "      <td>0</td>\n",
       "      <td>1</td>\n",
       "    </tr>\n",
       "    <tr>\n",
       "      <th>...</th>\n",
       "      <td>...</td>\n",
       "      <td>...</td>\n",
       "      <td>...</td>\n",
       "      <td>...</td>\n",
       "      <td>...</td>\n",
       "    </tr>\n",
       "    <tr>\n",
       "      <th>144</th>\n",
       "      <td>166</td>\n",
       "      <td>7</td>\n",
       "      <td>0</td>\n",
       "      <td>0</td>\n",
       "      <td>2</td>\n",
       "    </tr>\n",
       "    <tr>\n",
       "      <th>145</th>\n",
       "      <td>51</td>\n",
       "      <td>2</td>\n",
       "      <td>0</td>\n",
       "      <td>0</td>\n",
       "      <td>0</td>\n",
       "    </tr>\n",
       "    <tr>\n",
       "      <th>146</th>\n",
       "      <td>82</td>\n",
       "      <td>3</td>\n",
       "      <td>0</td>\n",
       "      <td>0</td>\n",
       "      <td>2</td>\n",
       "    </tr>\n",
       "    <tr>\n",
       "      <th>147</th>\n",
       "      <td>116</td>\n",
       "      <td>3</td>\n",
       "      <td>0</td>\n",
       "      <td>0</td>\n",
       "      <td>2</td>\n",
       "    </tr>\n",
       "    <tr>\n",
       "      <th>148</th>\n",
       "      <td>593</td>\n",
       "      <td>5</td>\n",
       "      <td>0</td>\n",
       "      <td>0</td>\n",
       "      <td>1</td>\n",
       "    </tr>\n",
       "  </tbody>\n",
       "</table>\n",
       "<p>149 rows × 5 columns</p>\n",
       "</div>"
      ],
      "text/plain": [
       "     impression_count  like_count  quote_count  reply_count  retweet_count\n",
       "0                 113           4            0            0              1\n",
       "1                 124           2            0            0              0\n",
       "2                  49           2            0            0              0\n",
       "3                 218           5            0            0              0\n",
       "4                 120           1            0            0              1\n",
       "..                ...         ...          ...          ...            ...\n",
       "144               166           7            0            0              2\n",
       "145                51           2            0            0              0\n",
       "146                82           3            0            0              2\n",
       "147               116           3            0            0              2\n",
       "148               593           5            0            0              1\n",
       "\n",
       "[149 rows x 5 columns]"
      ]
     },
     "execution_count": 98,
     "metadata": {},
     "output_type": "execute_result"
    }
   ],
   "source": [
    "sql = '''SELECT * FROM react'''\n",
    "cursor.execute(sql)\n",
    "mi_tabla = cursor.fetchall()\n",
    "pd.DataFrame(mi_tabla)"
   ]
  },
  {
   "cell_type": "code",
   "execution_count": 99,
   "metadata": {},
   "outputs": [
    {
     "data": {
      "text/html": [
       "<div>\n",
       "<style scoped>\n",
       "    .dataframe tbody tr th:only-of-type {\n",
       "        vertical-align: middle;\n",
       "    }\n",
       "\n",
       "    .dataframe tbody tr th {\n",
       "        vertical-align: top;\n",
       "    }\n",
       "\n",
       "    .dataframe thead th {\n",
       "        text-align: right;\n",
       "    }\n",
       "</style>\n",
       "<table border=\"1\" class=\"dataframe\">\n",
       "  <thead>\n",
       "    <tr style=\"text-align: right;\">\n",
       "      <th></th>\n",
       "      <th>author_id</th>\n",
       "      <th>created_at</th>\n",
       "      <th>id</th>\n",
       "      <th>text</th>\n",
       "      <th>dia</th>\n",
       "      <th>mes</th>\n",
       "      <th>año</th>\n",
       "    </tr>\n",
       "  </thead>\n",
       "  <tbody>\n",
       "    <tr>\n",
       "      <th>0</th>\n",
       "      <td>2147483647</td>\n",
       "      <td>2022-12-29 16:39:19+00:00</td>\n",
       "      <td>2147483647</td>\n",
       "      <td>0</td>\n",
       "      <td>29</td>\n",
       "      <td>12</td>\n",
       "      <td>2022</td>\n",
       "    </tr>\n",
       "    <tr>\n",
       "      <th>1</th>\n",
       "      <td>570795448</td>\n",
       "      <td>2022-12-29 12:52:11+00:00</td>\n",
       "      <td>2147483647</td>\n",
       "      <td>0</td>\n",
       "      <td>29</td>\n",
       "      <td>12</td>\n",
       "      <td>2022</td>\n",
       "    </tr>\n",
       "    <tr>\n",
       "      <th>2</th>\n",
       "      <td>1128860148</td>\n",
       "      <td>2022-12-29 09:16:11+00:00</td>\n",
       "      <td>2147483647</td>\n",
       "      <td>0</td>\n",
       "      <td>29</td>\n",
       "      <td>12</td>\n",
       "      <td>2022</td>\n",
       "    </tr>\n",
       "    <tr>\n",
       "      <th>3</th>\n",
       "      <td>570795448</td>\n",
       "      <td>2022-12-27 09:00:57+00:00</td>\n",
       "      <td>2147483647</td>\n",
       "      <td>0</td>\n",
       "      <td>27</td>\n",
       "      <td>12</td>\n",
       "      <td>2022</td>\n",
       "    </tr>\n",
       "    <tr>\n",
       "      <th>4</th>\n",
       "      <td>2147483647</td>\n",
       "      <td>2022-12-23 12:54:06+00:00</td>\n",
       "      <td>2147483647</td>\n",
       "      <td>0</td>\n",
       "      <td>23</td>\n",
       "      <td>12</td>\n",
       "      <td>2022</td>\n",
       "    </tr>\n",
       "    <tr>\n",
       "      <th>...</th>\n",
       "      <td>...</td>\n",
       "      <td>...</td>\n",
       "      <td>...</td>\n",
       "      <td>...</td>\n",
       "      <td>...</td>\n",
       "      <td>...</td>\n",
       "      <td>...</td>\n",
       "    </tr>\n",
       "    <tr>\n",
       "      <th>144</th>\n",
       "      <td>271028835</td>\n",
       "      <td>2023-01-07 19:55:52+00:00</td>\n",
       "      <td>2147483647</td>\n",
       "      <td>0</td>\n",
       "      <td>7</td>\n",
       "      <td>1</td>\n",
       "      <td>2023</td>\n",
       "    </tr>\n",
       "    <tr>\n",
       "      <th>145</th>\n",
       "      <td>2147483647</td>\n",
       "      <td>2023-01-06 12:28:27+00:00</td>\n",
       "      <td>2147483647</td>\n",
       "      <td>0</td>\n",
       "      <td>6</td>\n",
       "      <td>1</td>\n",
       "      <td>2023</td>\n",
       "    </tr>\n",
       "    <tr>\n",
       "      <th>146</th>\n",
       "      <td>10279282</td>\n",
       "      <td>2023-01-04 15:02:11+00:00</td>\n",
       "      <td>2147483647</td>\n",
       "      <td>0</td>\n",
       "      <td>4</td>\n",
       "      <td>1</td>\n",
       "      <td>2023</td>\n",
       "    </tr>\n",
       "    <tr>\n",
       "      <th>147</th>\n",
       "      <td>2147483647</td>\n",
       "      <td>2023-01-04 11:57:41+00:00</td>\n",
       "      <td>2147483647</td>\n",
       "      <td>0</td>\n",
       "      <td>4</td>\n",
       "      <td>1</td>\n",
       "      <td>2023</td>\n",
       "    </tr>\n",
       "    <tr>\n",
       "      <th>148</th>\n",
       "      <td>2147483647</td>\n",
       "      <td>2023-01-02 15:15:00+00:00</td>\n",
       "      <td>2147483647</td>\n",
       "      <td>0</td>\n",
       "      <td>2</td>\n",
       "      <td>1</td>\n",
       "      <td>2023</td>\n",
       "    </tr>\n",
       "  </tbody>\n",
       "</table>\n",
       "<p>149 rows × 7 columns</p>\n",
       "</div>"
      ],
      "text/plain": [
       "      author_id                 created_at          id  text  dia  mes   año\n",
       "0    2147483647  2022-12-29 16:39:19+00:00  2147483647     0   29   12  2022\n",
       "1     570795448  2022-12-29 12:52:11+00:00  2147483647     0   29   12  2022\n",
       "2    1128860148  2022-12-29 09:16:11+00:00  2147483647     0   29   12  2022\n",
       "3     570795448  2022-12-27 09:00:57+00:00  2147483647     0   27   12  2022\n",
       "4    2147483647  2022-12-23 12:54:06+00:00  2147483647     0   23   12  2022\n",
       "..          ...                        ...         ...   ...  ...  ...   ...\n",
       "144   271028835  2023-01-07 19:55:52+00:00  2147483647     0    7    1  2023\n",
       "145  2147483647  2023-01-06 12:28:27+00:00  2147483647     0    6    1  2023\n",
       "146    10279282  2023-01-04 15:02:11+00:00  2147483647     0    4    1  2023\n",
       "147  2147483647  2023-01-04 11:57:41+00:00  2147483647     0    4    1  2023\n",
       "148  2147483647  2023-01-02 15:15:00+00:00  2147483647     0    2    1  2023\n",
       "\n",
       "[149 rows x 7 columns]"
      ]
     },
     "execution_count": 99,
     "metadata": {},
     "output_type": "execute_result"
    }
   ],
   "source": [
    "sql = '''SELECT * FROM usr_msg'''\n",
    "cursor.execute(sql)\n",
    "mi_tabla = cursor.fetchall()\n",
    "pd.DataFrame(mi_tabla)"
   ]
  },
  {
   "cell_type": "code",
   "execution_count": null,
   "metadata": {},
   "outputs": [],
   "source": [
    "db.close()"
   ]
  },
  {
   "cell_type": "markdown",
   "metadata": {},
   "source": [
    "[Volver al índice](#0)"
   ]
  },
  {
   "cell_type": "markdown",
   "metadata": {},
   "source": [
    "<a id=\"3\"></a> <br>\n",
    "### 3. Análisis de datos\n",
    "\n",
    "Ahora vamos a analizar el dataframe resultante con toda la información recopilada.\n"
   ]
  },
  {
   "cell_type": "markdown",
   "metadata": {},
   "source": [
    "a. ¿Cuál es el tweet con mayor repercusión social?"
   ]
  },
  {
   "cell_type": "code",
   "execution_count": 51,
   "metadata": {},
   "outputs": [
    {
     "data": {
      "text/html": [
       "<div>\n",
       "<style scoped>\n",
       "    .dataframe tbody tr th:only-of-type {\n",
       "        vertical-align: middle;\n",
       "    }\n",
       "\n",
       "    .dataframe tbody tr th {\n",
       "        vertical-align: top;\n",
       "    }\n",
       "\n",
       "    .dataframe thead th {\n",
       "        text-align: right;\n",
       "    }\n",
       "</style>\n",
       "<table border=\"1\" class=\"dataframe\">\n",
       "  <thead>\n",
       "    <tr style=\"text-align: right;\">\n",
       "      <th></th>\n",
       "      <th></th>\n",
       "      <th>impression_count</th>\n",
       "      <th>like_count</th>\n",
       "      <th>quote_count</th>\n",
       "      <th>reply_count</th>\n",
       "      <th>retweet_count</th>\n",
       "    </tr>\n",
       "    <tr>\n",
       "      <th>text</th>\n",
       "      <th>id</th>\n",
       "      <th></th>\n",
       "      <th></th>\n",
       "      <th></th>\n",
       "      <th></th>\n",
       "      <th></th>\n",
       "    </tr>\n",
       "  </thead>\n",
       "  <tbody>\n",
       "    <tr>\n",
       "      <th>Advanced #Cynefin, Estuarine mapping &amp;amp; EUFG Masterclass (Madrid) https://t.co/H5ZSjbKHAr | Los interesados en la aplicación de las ciencias de la complejidad en nuestro país tendremos la oportunidad de aprender de @snowded en persona el 16/3/23 en la sede de @TheBridge_Tech https://t.co/LavCfgYIht</th>\n",
       "      <th>1614612463361695747</th>\n",
       "      <td>225761</td>\n",
       "      <td>321</td>\n",
       "      <td>4</td>\n",
       "      <td>7</td>\n",
       "      <td>49</td>\n",
       "    </tr>\n",
       "    <tr>\n",
       "      <th>En plena meet-up de CPS en @TheBridge_Tech con @ddamasd https://t.co/MkhnOh2Mzw</th>\n",
       "      <th>1615772633773256706</th>\n",
       "      <td>6600</td>\n",
       "      <td>35</td>\n",
       "      <td>1</td>\n",
       "      <td>2</td>\n",
       "      <td>5</td>\n",
       "    </tr>\n",
       "    <tr>\n",
       "      <th>Este 14 de Marzo hay meetup en Madrid de @BitcoinTuesday_ , se va a hablar de un proyecto muy interesante para poder realizar desarrollos sobre Bitcoin. En breve se pasarán los detalles\\nIr reservando el día y la hora, 7 PM en @TheBridge_Tech</th>\n",
       "      <th>1631244101902270464</th>\n",
       "      <td>2331</td>\n",
       "      <td>21</td>\n",
       "      <td>1</td>\n",
       "      <td>2</td>\n",
       "      <td>11</td>\n",
       "    </tr>\n",
       "    <tr>\n",
       "      <th>@snowded @TheBridge_Tech Se trata de un taller avanzado, que cubre los últimos avances en los diferentes marcos desarrollados por @snowded , con especial mención del #Estuarine framework. https://t.co/8EVHVXGYmc , en mi opinión la aportación más importante hecha en 2022 en materia de #AppliedComplexity https://t.co/mUCg9eywvt</th>\n",
       "      <th>1614612464657653760</th>\n",
       "      <td>1766</td>\n",
       "      <td>10</td>\n",
       "      <td>0</td>\n",
       "      <td>1</td>\n",
       "      <td>5</td>\n",
       "    </tr>\n",
       "    <tr>\n",
       "      <th>El meetup del jueves 9 de marzo con @ToniDorta se realizará finalmente @TheBridge_Tech 😄\\nNos sentimos tremendamente agradecidos por su generosidad.\\n¡Nos vemos este jueves!</th>\n",
       "      <th>1631978537904222211</th>\n",
       "      <td>1068</td>\n",
       "      <td>9</td>\n",
       "      <td>1</td>\n",
       "      <td>1</td>\n",
       "      <td>3</td>\n",
       "    </tr>\n",
       "  </tbody>\n",
       "</table>\n",
       "</div>"
      ],
      "text/plain": [
       "                                                                        impression_count  \\\n",
       "text                                               id                                      \n",
       "Advanced #Cynefin, Estuarine mapping &amp; EUFG... 1614612463361695747            225761   \n",
       "En plena meet-up de CPS en @TheBridge_Tech con ... 1615772633773256706              6600   \n",
       "Este 14 de Marzo hay meetup en Madrid de @Bitco... 1631244101902270464              2331   \n",
       "@snowded @TheBridge_Tech Se trata de un taller ... 1614612464657653760              1766   \n",
       "El meetup del jueves 9 de marzo con @ToniDorta ... 1631978537904222211              1068   \n",
       "\n",
       "                                                                        like_count  \\\n",
       "text                                               id                                \n",
       "Advanced #Cynefin, Estuarine mapping &amp; EUFG... 1614612463361695747         321   \n",
       "En plena meet-up de CPS en @TheBridge_Tech con ... 1615772633773256706          35   \n",
       "Este 14 de Marzo hay meetup en Madrid de @Bitco... 1631244101902270464          21   \n",
       "@snowded @TheBridge_Tech Se trata de un taller ... 1614612464657653760          10   \n",
       "El meetup del jueves 9 de marzo con @ToniDorta ... 1631978537904222211           9   \n",
       "\n",
       "                                                                        quote_count  \\\n",
       "text                                               id                                 \n",
       "Advanced #Cynefin, Estuarine mapping &amp; EUFG... 1614612463361695747            4   \n",
       "En plena meet-up de CPS en @TheBridge_Tech con ... 1615772633773256706            1   \n",
       "Este 14 de Marzo hay meetup en Madrid de @Bitco... 1631244101902270464            1   \n",
       "@snowded @TheBridge_Tech Se trata de un taller ... 1614612464657653760            0   \n",
       "El meetup del jueves 9 de marzo con @ToniDorta ... 1631978537904222211            1   \n",
       "\n",
       "                                                                        reply_count  \\\n",
       "text                                               id                                 \n",
       "Advanced #Cynefin, Estuarine mapping &amp; EUFG... 1614612463361695747            7   \n",
       "En plena meet-up de CPS en @TheBridge_Tech con ... 1615772633773256706            2   \n",
       "Este 14 de Marzo hay meetup en Madrid de @Bitco... 1631244101902270464            2   \n",
       "@snowded @TheBridge_Tech Se trata de un taller ... 1614612464657653760            1   \n",
       "El meetup del jueves 9 de marzo con @ToniDorta ... 1631978537904222211            1   \n",
       "\n",
       "                                                                        retweet_count  \n",
       "text                                               id                                  \n",
       "Advanced #Cynefin, Estuarine mapping &amp; EUFG... 1614612463361695747             49  \n",
       "En plena meet-up de CPS en @TheBridge_Tech con ... 1615772633773256706              5  \n",
       "Este 14 de Marzo hay meetup en Madrid de @Bitco... 1631244101902270464             11  \n",
       "@snowded @TheBridge_Tech Se trata de un taller ... 1614612464657653760              5  \n",
       "El meetup del jueves 9 de marzo con @ToniDorta ... 1631978537904222211              3  "
      ]
     },
     "execution_count": 51,
     "metadata": {},
     "output_type": "execute_result"
    }
   ],
   "source": [
    "# Primero identificaremos ciertas columnas concretas necesarias,impression_count,like_count,reply_count,quote_count y retweet_count\n",
    "grouped_text = df_unido.groupby(['text', 'id'])\n",
    "grouped_text[['impression_count', 'like_count', 'quote_count', 'reply_count', 'retweet_count']].max().sort_values(by='impression_count', ascending=False).head()"
   ]
  },
  {
   "cell_type": "markdown",
   "metadata": {},
   "source": [
    "Al probar los diferentes parametros que hemos expuesto anteriormente el tweet de mayor relevancia es el que tiene como id 1614612463361695747 "
   ]
  },
  {
   "cell_type": "markdown",
   "metadata": {},
   "source": [
    "b. ¿Cuál es el usuario que mas menciona a la escuela?"
   ]
  },
  {
   "cell_type": "code",
   "execution_count": 52,
   "metadata": {},
   "outputs": [
    {
     "data": {
      "text/plain": [
       "author_id\n",
       "702077405045899264     22\n",
       "2402179123             11\n",
       "1162694149956603904     7\n",
       "1003872445              5\n",
       "41545659                5\n",
       "                       ..\n",
       "763727449               1\n",
       "2603024598              1\n",
       "2611663910              1\n",
       "1065627197115981824     1\n",
       "271028835               1\n",
       "Name: count, Length: 64, dtype: int64"
      ]
     },
     "execution_count": 52,
     "metadata": {},
     "output_type": "execute_result"
    }
   ],
   "source": [
    "df_unido[\"author_id\"].value_counts() # Podemos ver que el usuario 702077405045899264 es el que tiene mas post sobre the bridge\n"
   ]
  },
  {
   "cell_type": "markdown",
   "metadata": {},
   "source": [
    "c. ¿En qué mes se concentra el mayor número de tweets? "
   ]
  },
  {
   "cell_type": "code",
   "execution_count": 53,
   "metadata": {},
   "outputs": [
    {
     "data": {
      "text/plain": [
       "mes\n",
       "1     54\n",
       "11    31\n",
       "12    29\n",
       "2     21\n",
       "3     14\n",
       "Name: count, dtype: int64"
      ]
     },
     "execution_count": 53,
     "metadata": {},
     "output_type": "execute_result"
    }
   ],
   "source": [
    "df_unido[\"mes\"].value_counts()"
   ]
  },
  {
   "cell_type": "markdown",
   "metadata": {},
   "source": [
    "El mes de Enero es el mes que concentra mayor número de tweets"
   ]
  },
  {
   "cell_type": "markdown",
   "metadata": {},
   "source": [
    "d. ¿Qué palabras son más frecuentes?"
   ]
  },
  {
   "cell_type": "code",
   "execution_count": 54,
   "metadata": {},
   "outputs": [
    {
     "data": {
      "text/plain": [
       "0      Empieza el año formándote en una de las profes...\n",
       "1      Los 4 bootcamps tecnológicos de EDEM y @TheBri...\n",
       "2      @EDEMempresarios acoge el 12 de enero un Open ...\n",
       "3      Si estás buscando una profesión que te cambie ...\n",
       "4      En @TheBridge_Tech tenemos un deseo para ti💫\\n...\n",
       "                             ...                        \n",
       "144    🚀 @EDEMempresarios  y @TheBridge_Tech  se alía...\n",
       "145    Gracias a nuestros amigos @TheBridge_Tech por ...\n",
       "146    ¿Te interesa el diseño de #producto digital? V...\n",
       "147    ¡Empezamos el año con una #masterclass de #uxu...\n",
       "148    🤝 @EDEMempresarios se alía con @TheBridge_Tech...\n",
       "Name: text, Length: 149, dtype: object"
      ]
     },
     "execution_count": 54,
     "metadata": {},
     "output_type": "execute_result"
    }
   ],
   "source": [
    "df_unido[\"text\"]"
   ]
  },
  {
   "cell_type": "code",
   "execution_count": 55,
   "metadata": {},
   "outputs": [],
   "source": [
    "# Signos de puntuación fuera. \n",
    "\n",
    "signos = re.compile(\"(\\.)|(\\;)|(\\:)|(\\!)|(\\?)|(\\¿)|(\\@)|(\\,)|(\\\")|(\\()|(\\))|(\\[)|(\\])|(\\d+)|(\\~)\")\n",
    "\n",
    "def signs_tweets(tweet):\n",
    "    return signos.sub('', tweet.lower())\n",
    "\n",
    "df_unido['text'] = df_unido['text'].apply(signs_tweets)"
   ]
  },
  {
   "cell_type": "code",
   "execution_count": 56,
   "metadata": {},
   "outputs": [],
   "source": [
    "df_unido[\"text\"] = df_unido[\"text\"].apply(lambda x: ' '.join([word for word in x.split() if word.lower() not in STOP_WORDS]))\n"
   ]
  },
  {
   "cell_type": "markdown",
   "metadata": {},
   "source": [
    "Eliminamos problemas con paginas web, y letras sueltas."
   ]
  },
  {
   "cell_type": "code",
   "execution_count": 57,
   "metadata": {},
   "outputs": [],
   "source": [
    "df_unido[\"text\"] = df_unido[\"text\"].str.replace(\"http\",\"\")\n",
    "df_unido[\"text\"] = df_unido[\"text\"].str.replace(\"tco\",\"\")\n",
    "\n",
    "def eliminar_letra_suelta(texto):\n",
    "    return re.sub(r'\\b\\w\\b', '', texto)\n",
    "df_unido['text'] = df_unido['text'].apply(eliminar_letra_suelta)\n"
   ]
  },
  {
   "cell_type": "code",
   "execution_count": 58,
   "metadata": {},
   "outputs": [
    {
     "data": {
      "image/png": "[encoded data removed]",
      "text/plain": [
       "<Figure size 600x600 with 1 Axes>"
      ]
     },
     "metadata": {},
     "output_type": "display_data"
    }
   ],
   "source": [
    "plt.subplots(figsize=(6,6))\n",
    "wordcloud = WordCloud(background_color='white',width=1200,height=980).generate(str(df_unido[\"text\"].values))\n",
    "plt.imshow(wordcloud)\n",
    "plt.axis('off')\n",
    "plt.show()"
   ]
  },
  {
   "cell_type": "markdown",
   "metadata": {},
   "source": [
    "Sobresale por encima de todo The_bridge_tech, ya que obviamente estan en todos los tweets, pero sobretodo palabras como digital, bootcamp y bbk_bootcamp destacan."
   ]
  },
  {
   "cell_type": "markdown",
   "metadata": {},
   "source": [
    "e. ¿Qué correlaciones encuentras en tus datos?"
   ]
  },
  {
   "cell_type": "markdown",
   "metadata": {},
   "source": [
    "Primero vemos que columnas numéricas nos pueden importar en nuestro analisis"
   ]
  },
  {
   "cell_type": "code",
   "execution_count": 59,
   "metadata": {},
   "outputs": [
    {
     "name": "stdout",
     "output_type": "stream",
     "text": [
      "<class 'pandas.core.frame.DataFrame'>\n",
      "RangeIndex: 149 entries, 0 to 148\n",
      "Data columns (total 14 columns):\n",
      " #   Column                  Non-Null Count  Dtype              \n",
      "---  ------                  --------------  -----              \n",
      " 0   author_id               149 non-null    object             \n",
      " 1   created_at              149 non-null    datetime64[ns, UTC]\n",
      " 2   edit_history_tweet_ids  149 non-null    object             \n",
      " 3   id                      149 non-null    object             \n",
      " 4   public_metrics          149 non-null    object             \n",
      " 5   text                    149 non-null    object             \n",
      " 6   impression_count        149 non-null    int64              \n",
      " 7   like_count              149 non-null    int64              \n",
      " 8   quote_count             149 non-null    int64              \n",
      " 9   reply_count             149 non-null    int64              \n",
      " 10  retweet_count           149 non-null    int64              \n",
      " 11  dia                     149 non-null    int32              \n",
      " 12  mes                     149 non-null    int32              \n",
      " 13  año                     149 non-null    int32              \n",
      "dtypes: datetime64[ns, UTC](1), int32(3), int64(5), object(5)\n",
      "memory usage: 14.7+ KB\n"
     ]
    }
   ],
   "source": [
    "df_unido.info()"
   ]
  },
  {
   "cell_type": "code",
   "execution_count": 60,
   "metadata": {},
   "outputs": [
    {
     "data": {
      "text/plain": [
       "0      113\n",
       "1      124\n",
       "2       49\n",
       "3      218\n",
       "4      120\n",
       "      ... \n",
       "144    166\n",
       "145     51\n",
       "146     82\n",
       "147    116\n",
       "148    593\n",
       "Name: impression_count, Length: 149, dtype: int64"
      ]
     },
     "execution_count": 60,
     "metadata": {},
     "output_type": "execute_result"
    }
   ],
   "source": [
    "df_unido[\"impression_count\"]"
   ]
  },
  {
   "cell_type": "code",
   "execution_count": 61,
   "metadata": {},
   "outputs": [],
   "source": [
    "# Creamos otro data frame para analizar los datos de correlacion\n",
    "df_corr = df_unido[[\"impression_count\",\"like_count\",\"quote_count\",\"reply_count\",\"retweet_count\",\"dia\",\"mes\",\"año\"]].copy()"
   ]
  },
  {
   "cell_type": "code",
   "execution_count": 62,
   "metadata": {},
   "outputs": [
    {
     "data": {
      "image/png": "[encoded data removed]",
      "text/plain": [
       "<Figure size 1000x500 with 2 Axes>"
      ]
     },
     "metadata": {},
     "output_type": "display_data"
    }
   ],
   "source": [
    "plt.figure(figsize=(10,5))\n",
    "sns.heatmap(df_corr.corr(),annot=True);"
   ]
  },
  {
   "cell_type": "markdown",
   "metadata": {},
   "source": [
    "En cuanto al dia, mes y año, como tenemos solo datos de 4 meses tampoco podemos hacer una valoración de ellos, pero si de las demás variables.\n",
    "\n",
    "Lo que se ve es que las correlaciones entre las diferentes variables son positivas.  \n",
    "\n",
    "Que practicamente hay un 0.50% de posibilidades de responder a una etiqueta puesta por otra persona.  \n",
    "\n",
    "También otra cosa a tener en cuenta es que a mayor numero de retweets, mayor numero de likes y de impresiones,lo cual es bueno."
   ]
  },
  {
   "cell_type": "code",
   "execution_count": 63,
   "metadata": {},
   "outputs": [],
   "source": [
    "df_unido.to_csv(\"../data/df_limpio.csv\")"
   ]
  },
  {
   "cell_type": "markdown",
   "metadata": {},
   "source": [
    "[Volver al índice](#0)"
   ]
  },
  {
   "cell_type": "markdown",
   "metadata": {},
   "source": [
    "<a id=\"4\"></a> <br>\n",
    "### 4. Machine Learning "
   ]
  },
  {
   "cell_type": "markdown",
   "metadata": {},
   "source": [
    "a. ¿De qué tipo de modelo se trata?"
   ]
  },
  {
   "cell_type": "code",
   "execution_count": 64,
   "metadata": {},
   "outputs": [
    {
     "name": "stdout",
     "output_type": "stream",
     "text": [
      "<class 'pandas.core.frame.DataFrame'>\n",
      "RangeIndex: 149 entries, 0 to 148\n",
      "Data columns (total 14 columns):\n",
      " #   Column                  Non-Null Count  Dtype              \n",
      "---  ------                  --------------  -----              \n",
      " 0   author_id               149 non-null    object             \n",
      " 1   created_at              149 non-null    datetime64[ns, UTC]\n",
      " 2   edit_history_tweet_ids  149 non-null    object             \n",
      " 3   id                      149 non-null    object             \n",
      " 4   public_metrics          149 non-null    object             \n",
      " 5   text                    149 non-null    object             \n",
      " 6   impression_count        149 non-null    int64              \n",
      " 7   like_count              149 non-null    int64              \n",
      " 8   quote_count             149 non-null    int64              \n",
      " 9   reply_count             149 non-null    int64              \n",
      " 10  retweet_count           149 non-null    int64              \n",
      " 11  dia                     149 non-null    int32              \n",
      " 12  mes                     149 non-null    int32              \n",
      " 13  año                     149 non-null    int32              \n",
      "dtypes: datetime64[ns, UTC](1), int32(3), int64(5), object(5)\n",
      "memory usage: 14.7+ KB\n"
     ]
    }
   ],
   "source": [
    "df_unido.info()"
   ]
  },
  {
   "cell_type": "code",
   "execution_count": 65,
   "metadata": {},
   "outputs": [
    {
     "name": "stderr",
     "output_type": "stream",
     "text": [
      "c:\\Users\\usuario\\AppData\\Local\\Programs\\Python\\Python311\\Lib\\site-packages\\sklearn\\base.py:347: InconsistentVersionWarning: Trying to unpickle estimator CountVectorizer from version 1.0.2 when using version 1.3.0. This might lead to breaking code or invalid results. Use at your own risk. For more info please refer to:\n",
      "https://scikit-learn.org/stable/model_persistence.html#security-maintainability-limitations\n",
      "  warnings.warn(\n",
      "c:\\Users\\usuario\\AppData\\Local\\Programs\\Python\\Python311\\Lib\\site-packages\\sklearn\\base.py:347: InconsistentVersionWarning: Trying to unpickle estimator LogisticRegression from version 1.0.2 when using version 1.3.0. This might lead to breaking code or invalid results. Use at your own risk. For more info please refer to:\n",
      "https://scikit-learn.org/stable/model_persistence.html#security-maintainability-limitations\n",
      "  warnings.warn(\n",
      "c:\\Users\\usuario\\AppData\\Local\\Programs\\Python\\Python311\\Lib\\site-packages\\sklearn\\base.py:347: InconsistentVersionWarning: Trying to unpickle estimator Pipeline from version 1.0.2 when using version 1.3.0. This might lead to breaking code or invalid results. Use at your own risk. For more info please refer to:\n",
      "https://scikit-learn.org/stable/model_persistence.html#security-maintainability-limitations\n",
      "  warnings.warn(\n"
     ]
    }
   ],
   "source": [
    "with open('../model/finished_model', \"rb\") as archivo_entrada:\n",
    "    model_trained = pickle.load(archivo_entrada)"
   ]
  },
  {
   "cell_type": "markdown",
   "metadata": {},
   "source": [
    "[Volver al índice](#0)"
   ]
  },
  {
   "cell_type": "code",
   "execution_count": 66,
   "metadata": {},
   "outputs": [
    {
     "data": {
      "text/html": [
       "<style>#sk-container-id-1 {color: black;}#sk-container-id-1 pre{padding: 0;}#sk-container-id-1 div.sk-toggleable {background-color: white;}#sk-container-id-1 label.sk-toggleable__label {cursor: pointer;display: block;width: 100%;margin-bottom: 0;padding: 0.3em;box-sizing: border-box;text-align: center;}#sk-container-id-1 label.sk-toggleable__label-arrow:before {content: \"▸\";float: left;margin-right: 0.25em;color: #696969;}#sk-container-id-1 label.sk-toggleable__label-arrow:hover:before {color: black;}#sk-container-id-1 div.sk-estimator:hover label.sk-toggleable__label-arrow:before {color: black;}#sk-container-id-1 div.sk-toggleable__content {max-height: 0;max-width: 0;overflow: hidden;text-align: left;background-color: #f0f8ff;}#sk-container-id-1 div.sk-toggleable__content pre {margin: 0.2em;color: black;border-radius: 0.25em;background-color: #f0f8ff;}#sk-container-id-1 input.sk-toggleable__control:checked~div.sk-toggleable__content {max-height: 200px;max-width: 100%;overflow: auto;}#sk-container-id-1 input.sk-toggleable__control:checked~label.sk-toggleable__label-arrow:before {content: \"▾\";}#sk-container-id-1 div.sk-estimator input.sk-toggleable__control:checked~label.sk-toggleable__label {background-color: #d4ebff;}#sk-container-id-1 div.sk-label input.sk-toggleable__control:checked~label.sk-toggleable__label {background-color: #d4ebff;}#sk-container-id-1 input.sk-hidden--visually {border: 0;clip: rect(1px 1px 1px 1px);clip: rect(1px, 1px, 1px, 1px);height: 1px;margin: -1px;overflow: hidden;padding: 0;position: absolute;width: 1px;}#sk-container-id-1 div.sk-estimator {font-family: monospace;background-color: #f0f8ff;border: 1px dotted black;border-radius: 0.25em;box-sizing: border-box;margin-bottom: 0.5em;}#sk-container-id-1 div.sk-estimator:hover {background-color: #d4ebff;}#sk-container-id-1 div.sk-parallel-item::after {content: \"\";width: 100%;border-bottom: 1px solid gray;flex-grow: 1;}#sk-container-id-1 div.sk-label:hover label.sk-toggleable__label {background-color: #d4ebff;}#sk-container-id-1 div.sk-serial::before {content: \"\";position: absolute;border-left: 1px solid gray;box-sizing: border-box;top: 0;bottom: 0;left: 50%;z-index: 0;}#sk-container-id-1 div.sk-serial {display: flex;flex-direction: column;align-items: center;background-color: white;padding-right: 0.2em;padding-left: 0.2em;position: relative;}#sk-container-id-1 div.sk-item {position: relative;z-index: 1;}#sk-container-id-1 div.sk-parallel {display: flex;align-items: stretch;justify-content: center;background-color: white;position: relative;}#sk-container-id-1 div.sk-item::before, #sk-container-id-1 div.sk-parallel-item::before {content: \"\";position: absolute;border-left: 1px solid gray;box-sizing: border-box;top: 0;bottom: 0;left: 50%;z-index: -1;}#sk-container-id-1 div.sk-parallel-item {display: flex;flex-direction: column;z-index: 1;position: relative;background-color: white;}#sk-container-id-1 div.sk-parallel-item:first-child::after {align-self: flex-end;width: 50%;}#sk-container-id-1 div.sk-parallel-item:last-child::after {align-self: flex-start;width: 50%;}#sk-container-id-1 div.sk-parallel-item:only-child::after {width: 0;}#sk-container-id-1 div.sk-dashed-wrapped {border: 1px dashed gray;margin: 0 0.4em 0.5em 0.4em;box-sizing: border-box;padding-bottom: 0.4em;background-color: white;}#sk-container-id-1 div.sk-label label {font-family: monospace;font-weight: bold;display: inline-block;line-height: 1.2em;}#sk-container-id-1 div.sk-label-container {text-align: center;}#sk-container-id-1 div.sk-container {/* jupyter's `normalize.less` sets `[hidden] { display: none; }` but bootstrap.min.css set `[hidden] { display: none !important; }` so we also need the `!important` here to be able to override the default hidden behavior on the sphinx rendered scikit-learn.org. See: https://github.com/scikit-learn/scikit-learn/issues/21755 */display: inline-block !important;position: relative;}#sk-container-id-1 div.sk-text-repr-fallback {display: none;}</style><div id=\"sk-container-id-1\" class=\"sk-top-container\"><div class=\"sk-text-repr-fallback\"><pre>Pipeline(steps=[(&#x27;vect&#x27;,\n",
       "                 CountVectorizer(max_features=5000, ngram_range=(1, 2))),\n",
       "                (&#x27;cls&#x27;, LogisticRegression(max_iter=10000))])</pre><b>In a Jupyter environment, please rerun this cell to show the HTML representation or trust the notebook. <br />On GitHub, the HTML representation is unable to render, please try loading this page with nbviewer.org.</b></div><div class=\"sk-container\" hidden><div class=\"sk-item sk-dashed-wrapped\"><div class=\"sk-label-container\"><div class=\"sk-label sk-toggleable\"><input class=\"sk-toggleable__control sk-hidden--visually\" id=\"sk-estimator-id-1\" type=\"checkbox\" ><label for=\"sk-estimator-id-1\" class=\"sk-toggleable__label sk-toggleable__label-arrow\">Pipeline</label><div class=\"sk-toggleable__content\"><pre>Pipeline(steps=[(&#x27;vect&#x27;,\n",
       "                 CountVectorizer(max_features=5000, ngram_range=(1, 2))),\n",
       "                (&#x27;cls&#x27;, LogisticRegression(max_iter=10000))])</pre></div></div></div><div class=\"sk-serial\"><div class=\"sk-item\"><div class=\"sk-estimator sk-toggleable\"><input class=\"sk-toggleable__control sk-hidden--visually\" id=\"sk-estimator-id-2\" type=\"checkbox\" ><label for=\"sk-estimator-id-2\" class=\"sk-toggleable__label sk-toggleable__label-arrow\">CountVectorizer</label><div class=\"sk-toggleable__content\"><pre>CountVectorizer(max_features=5000, ngram_range=(1, 2))</pre></div></div></div><div class=\"sk-item\"><div class=\"sk-estimator sk-toggleable\"><input class=\"sk-toggleable__control sk-hidden--visually\" id=\"sk-estimator-id-3\" type=\"checkbox\" ><label for=\"sk-estimator-id-3\" class=\"sk-toggleable__label sk-toggleable__label-arrow\">LogisticRegression</label><div class=\"sk-toggleable__content\"><pre>LogisticRegression(max_iter=10000)</pre></div></div></div></div></div></div></div>"
      ],
      "text/plain": [
       "Pipeline(steps=[('vect',\n",
       "                 CountVectorizer(max_features=5000, ngram_range=(1, 2))),\n",
       "                ('cls', LogisticRegression(max_iter=10000))])"
      ]
     },
     "execution_count": 66,
     "metadata": {},
     "output_type": "execute_result"
    }
   ],
   "source": [
    "model_trained"
   ]
  },
  {
   "cell_type": "markdown",
   "metadata": {},
   "source": [
    "Es un pipeline con un countvectorizer junto con una regresión logistica."
   ]
  },
  {
   "cell_type": "markdown",
   "metadata": {},
   "source": [
    "b. ¿Cuáles son las predicciones? Interpreta los resultados"
   ]
  },
  {
   "cell_type": "code",
   "execution_count": 67,
   "metadata": {},
   "outputs": [],
   "source": [
    "predictions = model_trained.predict(df_unido['text'])\n",
    "df_unido['sentiment'] = pd.DataFrame(predictions)"
   ]
  },
  {
   "cell_type": "code",
   "execution_count": 68,
   "metadata": {},
   "outputs": [
    {
     "data": {
      "text/html": [
       "<div>\n",
       "<style scoped>\n",
       "    .dataframe tbody tr th:only-of-type {\n",
       "        vertical-align: middle;\n",
       "    }\n",
       "\n",
       "    .dataframe tbody tr th {\n",
       "        vertical-align: top;\n",
       "    }\n",
       "\n",
       "    .dataframe thead th {\n",
       "        text-align: right;\n",
       "    }\n",
       "</style>\n",
       "<table border=\"1\" class=\"dataframe\">\n",
       "  <thead>\n",
       "    <tr style=\"text-align: right;\">\n",
       "      <th></th>\n",
       "      <th>author_id</th>\n",
       "      <th>created_at</th>\n",
       "      <th>edit_history_tweet_ids</th>\n",
       "      <th>id</th>\n",
       "      <th>public_metrics</th>\n",
       "      <th>text</th>\n",
       "      <th>impression_count</th>\n",
       "      <th>like_count</th>\n",
       "      <th>quote_count</th>\n",
       "      <th>reply_count</th>\n",
       "      <th>retweet_count</th>\n",
       "      <th>dia</th>\n",
       "      <th>mes</th>\n",
       "      <th>año</th>\n",
       "      <th>sentiment</th>\n",
       "    </tr>\n",
       "  </thead>\n",
       "  <tbody>\n",
       "    <tr>\n",
       "      <th>0</th>\n",
       "      <td>1151510939105144834</td>\n",
       "      <td>2022-12-29 16:39:19+00:00</td>\n",
       "      <td>[1608502937332113408]</td>\n",
       "      <td>1608502937332113408</td>\n",
       "      <td>{'impression_count': 113, 'like_count': 4, 'qu...</td>\n",
       "      <td>empieza año formándote profesiones 𝗱𝗲𝗺𝗮𝗻𝗱𝗮 𝗹𝗮𝗯...</td>\n",
       "      <td>113</td>\n",
       "      <td>4</td>\n",
       "      <td>0</td>\n",
       "      <td>0</td>\n",
       "      <td>1</td>\n",
       "      <td>29</td>\n",
       "      <td>12</td>\n",
       "      <td>2022</td>\n",
       "      <td>0</td>\n",
       "    </tr>\n",
       "    <tr>\n",
       "      <th>1</th>\n",
       "      <td>570795448</td>\n",
       "      <td>2022-12-29 12:52:11+00:00</td>\n",
       "      <td>[1608445776732246017]</td>\n",
       "      <td>1608445776732246017</td>\n",
       "      <td>{'impression_count': 124, 'like_count': 2, 'qu...</td>\n",
       "      <td>bootcamps tecnológicos edem thebridge_tech emp...</td>\n",
       "      <td>124</td>\n",
       "      <td>2</td>\n",
       "      <td>0</td>\n",
       "      <td>0</td>\n",
       "      <td>0</td>\n",
       "      <td>29</td>\n",
       "      <td>12</td>\n",
       "      <td>2022</td>\n",
       "      <td>0</td>\n",
       "    </tr>\n",
       "    <tr>\n",
       "      <th>2</th>\n",
       "      <td>1128860148</td>\n",
       "      <td>2022-12-29 09:16:11+00:00</td>\n",
       "      <td>[1608391421014196224]</td>\n",
       "      <td>1608391421014196224</td>\n",
       "      <td>{'impression_count': 49, 'like_count': 2, 'quo...</td>\n",
       "      <td>edemempresarios acoge enero open day participa...</td>\n",
       "      <td>49</td>\n",
       "      <td>2</td>\n",
       "      <td>0</td>\n",
       "      <td>0</td>\n",
       "      <td>0</td>\n",
       "      <td>29</td>\n",
       "      <td>12</td>\n",
       "      <td>2022</td>\n",
       "      <td>0</td>\n",
       "    </tr>\n",
       "    <tr>\n",
       "      <th>3</th>\n",
       "      <td>570795448</td>\n",
       "      <td>2022-12-27 09:00:57+00:00</td>\n",
       "      <td>[1607662809575292929]</td>\n",
       "      <td>1607662809575292929</td>\n",
       "      <td>{'impression_count': 218, 'like_count': 5, 'qu...</td>\n",
       "      <td>estás buscando profesión cambie vida acércate ...</td>\n",
       "      <td>218</td>\n",
       "      <td>5</td>\n",
       "      <td>0</td>\n",
       "      <td>0</td>\n",
       "      <td>0</td>\n",
       "      <td>27</td>\n",
       "      <td>12</td>\n",
       "      <td>2022</td>\n",
       "      <td>0</td>\n",
       "    </tr>\n",
       "    <tr>\n",
       "      <th>4</th>\n",
       "      <td>1162694149956603904</td>\n",
       "      <td>2022-12-23 12:54:06+00:00</td>\n",
       "      <td>[1606271930763354112]</td>\n",
       "      <td>1606271930763354112</td>\n",
       "      <td>{'impression_count': 120, 'like_count': 1, 'qu...</td>\n",
       "      <td>thebridge_tech deseo ti💫 ¡qué venga cargado éx...</td>\n",
       "      <td>120</td>\n",
       "      <td>1</td>\n",
       "      <td>0</td>\n",
       "      <td>0</td>\n",
       "      <td>1</td>\n",
       "      <td>23</td>\n",
       "      <td>12</td>\n",
       "      <td>2022</td>\n",
       "      <td>0</td>\n",
       "    </tr>\n",
       "  </tbody>\n",
       "</table>\n",
       "</div>"
      ],
      "text/plain": [
       "             author_id                created_at edit_history_tweet_ids  \\\n",
       "0  1151510939105144834 2022-12-29 16:39:19+00:00  [1608502937332113408]   \n",
       "1            570795448 2022-12-29 12:52:11+00:00  [1608445776732246017]   \n",
       "2           1128860148 2022-12-29 09:16:11+00:00  [1608391421014196224]   \n",
       "3            570795448 2022-12-27 09:00:57+00:00  [1607662809575292929]   \n",
       "4  1162694149956603904 2022-12-23 12:54:06+00:00  [1606271930763354112]   \n",
       "\n",
       "                    id                                     public_metrics  \\\n",
       "0  1608502937332113408  {'impression_count': 113, 'like_count': 4, 'qu...   \n",
       "1  1608445776732246017  {'impression_count': 124, 'like_count': 2, 'qu...   \n",
       "2  1608391421014196224  {'impression_count': 49, 'like_count': 2, 'quo...   \n",
       "3  1607662809575292929  {'impression_count': 218, 'like_count': 5, 'qu...   \n",
       "4  1606271930763354112  {'impression_count': 120, 'like_count': 1, 'qu...   \n",
       "\n",
       "                                                text  impression_count  \\\n",
       "0  empieza año formándote profesiones 𝗱𝗲𝗺𝗮𝗻𝗱𝗮 𝗹𝗮𝗯...               113   \n",
       "1  bootcamps tecnológicos edem thebridge_tech emp...               124   \n",
       "2  edemempresarios acoge enero open day participa...                49   \n",
       "3  estás buscando profesión cambie vida acércate ...               218   \n",
       "4  thebridge_tech deseo ti💫 ¡qué venga cargado éx...               120   \n",
       "\n",
       "   like_count  quote_count  reply_count  retweet_count  dia  mes   año  \\\n",
       "0           4            0            0              1   29   12  2022   \n",
       "1           2            0            0              0   29   12  2022   \n",
       "2           2            0            0              0   29   12  2022   \n",
       "3           5            0            0              0   27   12  2022   \n",
       "4           1            0            0              1   23   12  2022   \n",
       "\n",
       "   sentiment  \n",
       "0          0  \n",
       "1          0  \n",
       "2          0  \n",
       "3          0  \n",
       "4          0  "
      ]
     },
     "execution_count": 68,
     "metadata": {},
     "output_type": "execute_result"
    }
   ],
   "source": [
    "df_unido.head()"
   ]
  },
  {
   "cell_type": "code",
   "execution_count": 69,
   "metadata": {},
   "outputs": [
    {
     "data": {
      "image/png": "[encoded data removed]",
      "text/plain": [
       "<Figure size 640x480 with 1 Axes>"
      ]
     },
     "metadata": {},
     "output_type": "display_data"
    }
   ],
   "source": [
    "sns.countplot(df_unido, x='sentiment');"
   ]
  },
  {
   "cell_type": "markdown",
   "metadata": {},
   "source": [
    "En este caso 0 es un buen sentimiento y 1 es un sentimiento negativo"
   ]
  },
  {
   "cell_type": "markdown",
   "metadata": {},
   "source": [
    "c. ¿Cómo podrías mejorar el modelo?"
   ]
  },
  {
   "cell_type": "code",
   "execution_count": 70,
   "metadata": {},
   "outputs": [
    {
     "data": {
      "text/plain": [
       "0      empieza año formándote profesiones 𝗱𝗲𝗺𝗮𝗻𝗱𝗮 𝗹𝗮𝗯...\n",
       "1      bootcamps tecnológicos edem thebridge_tech emp...\n",
       "2      edemempresarios acoge enero open day participa...\n",
       "3      estás buscando profesión cambie vida acércate ...\n",
       "4      thebridge_tech deseo ti💫 ¡qué venga cargado éx...\n",
       "                             ...                        \n",
       "144    🚀 edemempresarios thebridge_tech alían imparti...\n",
       "145    gracias amigos thebridge_tech acogernos 🙏 ///o...\n",
       "146    interesa diseño #producto digital ven #masterc...\n",
       "147    ¡empezamos año #masterclass #uxui introducción...\n",
       "148    🤝 edemempresarios alía thebridge_tech impartir...\n",
       "Name: text, Length: 149, dtype: object"
      ]
     },
     "execution_count": 70,
     "metadata": {},
     "output_type": "execute_result"
    }
   ],
   "source": [
    "df_unido[\"text\"]"
   ]
  },
  {
   "cell_type": "markdown",
   "metadata": {},
   "source": [
    "Para mejorar el modelo utilizaria un TfidfVectorizer"
   ]
  },
  {
   "cell_type": "code",
   "execution_count": 71,
   "metadata": {},
   "outputs": [
    {
     "name": "stdout",
     "output_type": "stream",
     "text": [
      "Accuracy de: 0.90\n"
     ]
    }
   ],
   "source": [
    "X_train, X_test, y_train, y_test = train_test_split(df_unido['text'], df_unido['sentiment'], test_size=0.2, random_state=42)\n",
    "vectorizer = TfidfVectorizer(max_features=5000, ngram_range=(1, 2))\n",
    "\n",
    "X_train_tfidf = vectorizer.fit_transform(X_train)\n",
    "X_test_tfidf = vectorizer.transform(X_test)\n",
    "\n",
    "classifier = LogisticRegression(max_iter=10000)\n",
    "\n",
    "classifier.fit(X_train_tfidf, y_train)\n",
    "\n",
    "y_pred = classifier.predict(X_test_tfidf)\n",
    "accuracy = accuracy_score(y_test, y_pred)\n",
    "\n",
    "print(f\"Accuracy de: {accuracy:.2f}\")"
   ]
  },
  {
   "cell_type": "markdown",
   "metadata": {},
   "source": [
    "d. ¿Qué otras oportunidades se te ocurren donde se podrían aplicar otros\n",
    "modelos de ML?"
   ]
  },
  {
   "cell_type": "markdown",
   "metadata": {},
   "source": [
    "Podriamos intentar a meter un pipeline de un TfidfVectorizer con un random forest."
   ]
  },
  {
   "cell_type": "code",
   "execution_count": 72,
   "metadata": {},
   "outputs": [
    {
     "name": "stdout",
     "output_type": "stream",
     "text": [
      "Accuracy de: 0.93\n"
     ]
    }
   ],
   "source": [
    "pipeline = Pipeline([\n",
    "    ('tfidf', TfidfVectorizer(max_features=5000, ngram_range=(1, 2))),\n",
    "    ('rf', RandomForestClassifier(n_estimators=100))\n",
    "])\n",
    "\n",
    "pipeline.fit(X_train, y_train)\n",
    "\n",
    "y_pred = pipeline.predict(X_test)\n",
    "accuracy = accuracy_score(y_test, y_pred)\n",
    "\n",
    "print(f\"Accuracy de: {accuracy:.2f}\")"
   ]
  },
  {
   "cell_type": "markdown",
   "metadata": {},
   "source": [
    "Podriamos mejorar un poco el modelo pero tendriamos que tener en cuenta los hiperparametros para ver si estamos en overfitting o no."
   ]
  },
  {
   "cell_type": "markdown",
   "metadata": {},
   "source": [
    "<a id=\"5\"></a> <br>\n",
    "### 5. Conclusiones finales."
   ]
  },
  {
   "cell_type": "markdown",
   "metadata": {},
   "source": [
    "Ademas de otros modelos de predicción diferentes a Countvectorizer y una logisticregression que son modelos sencillos para procesamiento de palabras, utilizaría mejor TfidfVectorizer ya que penaliza las palabras que tienen demasiada frecuencia dando más peso a otras que no tienen tanta y así tener una mejor visión del problema."
   ]
  },
  {
   "cell_type": "markdown",
   "metadata": {},
   "source": [
    "[Volver al índice](#0)"
   ]
  }
 ],
 "metadata": {
  "kernelspec": {
   "display_name": "Python 3",
   "language": "python",
   "name": "python3"
  },
  "language_info": {
   "codemirror_mode": {
    "name": "ipython",
    "version": 3
   },
   "file_extension": ".py",
   "mimetype": "text/x-python",
   "name": "python",
   "nbconvert_exporter": "python",
   "pygments_lexer": "ipython3",
   "version": "3.11.4"
  },
  "orig_nbformat": 4
 },
 "nbformat": 4,
 "nbformat_minor": 2
}
